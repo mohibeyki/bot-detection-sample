{
 "cells": [
  {
   "cell_type": "code",
   "execution_count": 47,
   "metadata": {},
   "outputs": [],
   "source": [
    "import random\n",
    "import keras\n",
    "import keras_metrics\n",
    "import subprocess\n",
    "import pickle\n",
    "import numpy as np\n",
    "import pandas as pd\n",
    "import matplotlib.pyplot as plt\n",
    "\n",
    "from keras.layers import Dense, Embedding\n",
    "from keras.layers import LSTM\n",
    "from keras.models import Sequential\n",
    "from keras.preprocessing import sequence\n",
    "from keras.preprocessing.text import Tokenizer\n",
    "from nltk.corpus import stopwords\n",
    "from nltk.stem.porter import PorterStemmer\n",
    "from nltk.tokenize import word_tokenize\n",
    "\n",
    "from sklearn.metrics import roc_curve, roc_auc_score, auc\n",
    "\n",
    "tokenizer = Tokenizer()"
   ]
  },
  {
   "cell_type": "code",
   "execution_count": 2,
   "metadata": {},
   "outputs": [],
   "source": [
    "def extract_stems(line):\n",
    "    tokens = word_tokenize(line)\n",
    "    stop_words = set(stopwords.words('english'))\n",
    "    tokens = [w for w in tokens if w not in stop_words]\n",
    "    porter = PorterStemmer()\n",
    "    stems = []\n",
    "    for t in tokens:\n",
    "        stems.append(porter.stem(t))\n",
    "    return stems"
   ]
  },
  {
   "cell_type": "code",
   "execution_count": 3,
   "metadata": {},
   "outputs": [],
   "source": [
    "def get_one_hot(stems, vocab):\n",
    "    seq = []\n",
    "    for stem in stems:\n",
    "        if stem in vocab:\n",
    "            seq.append(vocab[stem] - 1)\n",
    "    return seq"
   ]
  },
  {
   "cell_type": "code",
   "execution_count": 4,
   "metadata": {},
   "outputs": [],
   "source": [
    "def load_vocab():\n",
    "    with open('vocab.pickle', 'rb') as f:\n",
    "        vocab = pickle.load(f)\n",
    "        return vocab"
   ]
  },
  {
   "cell_type": "code",
   "execution_count": 5,
   "metadata": {},
   "outputs": [],
   "source": [
    "class DataGenerator(keras.utils.Sequence):\n",
    "    'Generates data for Keras'\n",
    "    def __init__(self, vocab, maxlen, bot_file_name='trv-bot.txt', gen_file_name='trv-gen.txt', batch_size=64):\n",
    "        'Initialization'\n",
    "        self.bot_file_name = bot_file_name\n",
    "        self.gen_file_name = gen_file_name\n",
    "        self.vocab = vocab\n",
    "        self.maxlen = maxlen\n",
    "        self.size = int(subprocess.check_output(['wc', '-l', bot_file_name]).split()[0]) * 2\n",
    "        self.batch_size = batch_size\n",
    "        self.bot_file = open(self.bot_file_name, 'r', errors='ignore')\n",
    "        self.gen_file = open(self.gen_file_name, 'r', errors='ignore')\n",
    "        self.on_epoch_end()\n",
    "\n",
    "    def on_epoch_end(self):\n",
    "        self.bot_file = open(self.bot_file_name, 'r', errors='ignore')\n",
    "        self.gen_file = open(self.gen_file_name, 'r', errors='ignore')\n",
    "\n",
    "    def __len__(self):\n",
    "        'Denotes the number of batches per epoch'\n",
    "        return int(self.size / self.batch_size)\n",
    "\n",
    "    def __getitem__(self, index):\n",
    "        'Generate one batch of data'\n",
    "        bot_data = []\n",
    "        for _ in range(int(self.batch_size / 2)):\n",
    "            bot_data.append(self.bot_file.readline())\n",
    "        gen_data = []\n",
    "        for _ in range(int(self.batch_size / 2)):\n",
    "            gen_data.append(self.gen_file.readline())\n",
    "\n",
    "        x_data = []\n",
    "        for line in bot_data:\n",
    "            stems = extract_stems(line)\n",
    "            x_data.append(get_one_hot(stems, vocab))\n",
    "        for line in gen_data:\n",
    "            stems = extract_stems(line)\n",
    "            x_data.append(get_one_hot(stems, vocab))\n",
    "        y_data = [1] * len(bot_data) + [0] * len(gen_data)\n",
    "\n",
    "        train_set = list(zip(x_data, y_data))\n",
    "        random.shuffle(train_set)\n",
    "        x, y = zip(*train_set)\n",
    "        x = sequence.pad_sequences(np.array(x), maxlen=self.maxlen)\n",
    "        return x, np.array(y)"
   ]
  },
  {
   "cell_type": "code",
   "execution_count": 6,
   "metadata": {},
   "outputs": [],
   "source": [
    "def get_test_data(maxlen):\n",
    "    with open('test-bot.txt', 'r', errors='ignore') as file:\n",
    "        bot_data = file.readlines()\n",
    "\n",
    "    with open('test-gen.txt', 'r', errors='ignore') as file:\n",
    "        gen_data = file.readlines()\n",
    "\n",
    "    x_data = []\n",
    "    for line in bot_data:\n",
    "        stems = extract_stems(line)\n",
    "        x_data.append(get_one_hot(stems, vocab))\n",
    "    for line in gen_data:\n",
    "        stems = extract_stems(line)\n",
    "        x_data.append(get_one_hot(stems, vocab))\n",
    "    y_data = [1] * len(bot_data) + [0] * len(gen_data)\n",
    "    \n",
    "    x = sequence.pad_sequences(np.array(x_data), maxlen=maxlen)\n",
    "    return x, np.array(y_data)"
   ]
  },
  {
   "cell_type": "code",
   "execution_count": 35,
   "metadata": {},
   "outputs": [
    {
     "name": "stdout",
     "output_type": "stream",
     "text": [
      "vocab size: 10000\n"
     ]
    }
   ],
   "source": [
    "max_features = 10000\n",
    "maxlen = 32\n",
    "batch_size = 256\n",
    "vocab = load_vocab()\n",
    "print('vocab size:', len(vocab))"
   ]
  },
  {
   "cell_type": "code",
   "execution_count": 36,
   "metadata": {},
   "outputs": [],
   "source": [
    "training_generator = DataGenerator(vocab, maxlen, 'train-bot.txt', 'train-gen.txt', batch_size)\n",
    "validation_generator = DataGenerator(vocab, maxlen, 'validation-bot.txt', 'validation-gen.txt', batch_size)"
   ]
  },
  {
   "cell_type": "code",
   "execution_count": 37,
   "metadata": {},
   "outputs": [],
   "source": [
    "model = Sequential()\n",
    "model.add(Embedding(len(vocab), 128))\n",
    "model.add(LSTM(128, dropout=0.2, recurrent_dropout=0.2))\n",
    "model.add(Dense(1, activation='sigmoid'))\n",
    "model.compile(loss='binary_crossentropy',\n",
    "              optimizer='adam',\n",
    "              metrics=['accuracy',keras_metrics.precision(), keras_metrics.recall()])"
   ]
  },
  {
   "cell_type": "code",
   "execution_count": 38,
   "metadata": {},
   "outputs": [
    {
     "name": "stdout",
     "output_type": "stream",
     "text": [
      "Epoch 1/20\n",
      "1875/1875 [==============================] - 186s 99ms/step - loss: 0.2639 - acc: 0.8881 - precision: 0.9264 - recall: 0.8432 - val_loss: 0.2243 - val_acc: 0.9052 - val_precision: 0.9488 - val_recall: 0.8567\n",
      "Epoch 2/20\n",
      "1875/1875 [==============================] - 188s 100ms/step - loss: 0.2064 - acc: 0.9135 - precision: 0.9448 - recall: 0.8784 - val_loss: 0.2105 - val_acc: 0.9130 - val_precision: 0.9524 - val_recall: 0.8694\n",
      "Epoch 3/20\n",
      "1875/1875 [==============================] - 187s 100ms/step - loss: 0.1869 - acc: 0.9222 - precision: 0.9484 - recall: 0.8929 - val_loss: 0.2099 - val_acc: 0.9165 - val_precision: 0.9414 - val_recall: 0.8883\n",
      "Epoch 4/20\n",
      "1875/1875 [==============================] - 187s 100ms/step - loss: 0.1737 - acc: 0.9273 - precision: 0.9501 - recall: 0.9021 - val_loss: 0.2103 - val_acc: 0.9177 - val_precision: 0.9400 - val_recall: 0.8925\n",
      "Epoch 5/20\n",
      "1875/1875 [==============================] - 187s 100ms/step - loss: 0.1620 - acc: 0.9325 - precision: 0.9532 - recall: 0.9098 - val_loss: 0.2153 - val_acc: 0.9183 - val_precision: 0.9371 - val_recall: 0.8968\n",
      "Epoch 6/20\n",
      "1875/1875 [==============================] - 187s 100ms/step - loss: 0.1524 - acc: 0.9368 - precision: 0.9550 - recall: 0.9167 - val_loss: 0.2197 - val_acc: 0.9178 - val_precision: 0.9322 - val_recall: 0.9011\n",
      "Epoch 7/20\n",
      "1875/1875 [==============================] - 187s 100ms/step - loss: 0.1437 - acc: 0.9404 - precision: 0.9572 - recall: 0.9220 - val_loss: 0.2297 - val_acc: 0.9176 - val_precision: 0.9294 - val_recall: 0.9040\n",
      "Epoch 8/20\n",
      "1875/1875 [==============================] - 187s 100ms/step - loss: 0.1363 - acc: 0.9435 - precision: 0.9592 - recall: 0.9265 - val_loss: 0.2365 - val_acc: 0.9179 - val_precision: 0.9316 - val_recall: 0.9020\n",
      "Epoch 9/20\n",
      "1875/1875 [==============================] - 187s 100ms/step - loss: 0.1296 - acc: 0.9464 - precision: 0.9609 - recall: 0.9305 - val_loss: 0.2459 - val_acc: 0.9176 - val_precision: 0.9291 - val_recall: 0.9041\n",
      "Epoch 10/20\n",
      "1875/1875 [==============================] - 187s 100ms/step - loss: 0.1233 - acc: 0.9491 - precision: 0.9631 - recall: 0.9340 - val_loss: 0.2647 - val_acc: 0.9165 - val_precision: 0.9256 - val_recall: 0.9059\n",
      "Epoch 11/20\n",
      "1875/1875 [==============================] - 187s 100ms/step - loss: 0.1180 - acc: 0.9510 - precision: 0.9644 - recall: 0.9366 - val_loss: 0.2644 - val_acc: 0.9169 - val_precision: 0.9265 - val_recall: 0.9057\n",
      "Epoch 12/20\n",
      "1875/1875 [==============================] - 187s 100ms/step - loss: 0.1132 - acc: 0.9531 - precision: 0.9656 - recall: 0.9396 - val_loss: 0.2783 - val_acc: 0.9166 - val_precision: 0.9259 - val_recall: 0.9058\n",
      "Epoch 13/20\n",
      "1875/1875 [==============================] - 187s 100ms/step - loss: 0.1089 - acc: 0.9549 - precision: 0.9668 - recall: 0.9421 - val_loss: 0.2921 - val_acc: 0.9158 - val_precision: 0.9232 - val_recall: 0.9071\n",
      "Epoch 14/20\n",
      "1875/1875 [==============================] - 187s 100ms/step - loss: 0.1046 - acc: 0.9565 - precision: 0.9681 - recall: 0.9442 - val_loss: 0.2960 - val_acc: 0.9160 - val_precision: 0.9255 - val_recall: 0.9049\n",
      "Epoch 15/20\n",
      "1875/1875 [==============================] - 187s 100ms/step - loss: 0.1004 - acc: 0.9581 - precision: 0.9691 - recall: 0.9464 - val_loss: 0.3007 - val_acc: 0.9167 - val_precision: 0.9235 - val_recall: 0.9088\n",
      "Epoch 16/20\n",
      "1875/1875 [==============================] - 187s 100ms/step - loss: 0.0971 - acc: 0.9595 - precision: 0.9697 - recall: 0.9486 - val_loss: 0.3092 - val_acc: 0.9161 - val_precision: 0.9221 - val_recall: 0.9091\n",
      "Epoch 17/20\n",
      "1875/1875 [==============================] - 187s 100ms/step - loss: 0.0940 - acc: 0.9609 - precision: 0.9708 - recall: 0.9504 - val_loss: 0.3188 - val_acc: 0.9162 - val_precision: 0.9241 - val_recall: 0.9069\n",
      "Epoch 18/20\n",
      "1875/1875 [==============================] - 187s 100ms/step - loss: 0.0911 - acc: 0.9617 - precision: 0.9710 - recall: 0.9517 - val_loss: 0.3212 - val_acc: 0.9168 - val_precision: 0.9252 - val_recall: 0.9069\n",
      "Epoch 19/20\n",
      "1875/1875 [==============================] - 187s 99ms/step - loss: 0.0880 - acc: 0.9629 - precision: 0.9718 - recall: 0.9535 - val_loss: 0.3340 - val_acc: 0.9165 - val_precision: 0.9211 - val_recall: 0.9111\n",
      "Epoch 20/20\n",
      "1875/1875 [==============================] - 188s 100ms/step - loss: 0.0861 - acc: 0.9637 - precision: 0.9728 - recall: 0.9541 - val_loss: 0.3393 - val_acc: 0.9166 - val_precision: 0.9237 - val_recall: 0.9082\n"
     ]
    }
   ],
   "source": [
    "history = model.fit_generator(generator=training_generator,\n",
    "                    validation_data=validation_generator,\n",
    "                    epochs=20)"
   ]
  },
  {
   "cell_type": "code",
   "execution_count": 39,
   "metadata": {},
   "outputs": [
    {
     "name": "stdout",
     "output_type": "stream",
     "text": [
      "Saved model to disk\n"
     ]
    }
   ],
   "source": [
    "model.save_weights(\"lstm-c/model.h5\")\n",
    "print(\"Saved model to disk\")"
   ]
  },
  {
   "cell_type": "code",
   "execution_count": 40,
   "metadata": {},
   "outputs": [
    {
     "data": {
      "image/png": "[encoded data removed]",
      "text/plain": [
       "<Figure size 432x288 with 1 Axes>"
      ]
     },
     "metadata": {
      "needs_background": "light"
     },
     "output_type": "display_data"
    }
   ],
   "source": [
    "plt.xlim(left=-1, right=21)\n",
    "plt.title('precision')\n",
    "plt.plot(history.history['precision'], label='train')\n",
    "plt.savefig('lstm-c/precision.svg')"
   ]
  },
  {
   "cell_type": "code",
   "execution_count": 42,
   "metadata": {},
   "outputs": [
    {
     "data": {
      "image/png": "[encoded data removed]",
      "text/plain": [
       "<Figure size 432x288 with 1 Axes>"
      ]
     },
     "metadata": {
      "needs_background": "light"
     },
     "output_type": "display_data"
    }
   ],
   "source": [
    "plt.xlim(left=-1, right=21)\n",
    "plt.title('acc')\n",
    "plt.plot(history.history['acc'], label='train')\n",
    "plt.savefig('lstm-c/accuracy.svg')"
   ]
  },
  {
   "cell_type": "code",
   "execution_count": 43,
   "metadata": {},
   "outputs": [
    {
     "data": {
      "image/png": "[encoded data removed]",
      "text/plain": [
       "<Figure size 432x288 with 1 Axes>"
      ]
     },
     "metadata": {
      "needs_background": "light"
     },
     "output_type": "display_data"
    }
   ],
   "source": [
    "plt.xlim(left=-1, right=21)\n",
    "plt.title('recall')\n",
    "plt.plot(history.history['recall'], label='train')\n",
    "plt.savefig('lstm-c/recall.svg')"
   ]
  },
  {
   "cell_type": "code",
   "execution_count": 45,
   "metadata": {},
   "outputs": [],
   "source": [
    "x_test, y_test = get_test_data(maxlen)"
   ]
  },
  {
   "cell_type": "code",
   "execution_count": 48,
   "metadata": {},
   "outputs": [],
   "source": [
    "y_pred = model.predict(x_test).ravel()\n",
    "fpr, tpr, threshold = roc_curve(y_test, y_pred)"
   ]
  },
  {
   "cell_type": "code",
   "execution_count": 49,
   "metadata": {},
   "outputs": [
    {
     "data": {
      "image/png": "[encoded data removed]",
      "text/plain": [
       "<Figure size 432x288 with 1 Axes>"
      ]
     },
     "metadata": {
      "needs_background": "light"
     },
     "output_type": "display_data"
    }
   ],
   "source": [
    "plt.figure(1)\n",
    "plt.plot([0, 1], [0, 1], 'k--')\n",
    "plt.plot(fpr, tpr, label='(area = {:.3f})'.format(auc(fpr, tpr)))\n",
    "plt.xlabel('False positive rate')\n",
    "plt.ylabel('True positive rate')\n",
    "plt.title('ROC curve')\n",
    "plt.legend(loc='best')\n",
    "plt.savefig('lstm-c/roc.svg')"
   ]
  },
  {
   "cell_type": "code",
   "execution_count": 50,
   "metadata": {},
   "outputs": [
    {
     "name": "stdout",
     "output_type": "stream",
     "text": [
      "159998/159998 [==============================] - 3s 21us/step\n",
      "score: 0.3362360287945584\n",
      "accuracy: 0.9183364792477139\n",
      "precision: 0.9260579518244563\n",
      "recall: 0.9092727318171588\n"
     ]
    }
   ],
   "source": [
    "score, acc, p, r = model.evaluate(x_test, y_test,\n",
    "                           batch_size=batch_size)\n",
    "print('score:', score)\n",
    "print('accuracy:', acc)\n",
    "print('precision:', p)\n",
    "print('recall:', r)"
   ]
  },
  {
   "cell_type": "code",
   "execution_count": null,
   "metadata": {},
   "outputs": [],
   "source": []
  }
 ],
 "metadata": {
  "kernelspec": {
   "display_name": "Python 3",
   "language": "python",
   "name": "python3"
  },
  "language_info": {
   "codemirror_mode": {
    "name": "ipython",
    "version": 3
   },
   "file_extension": ".py",
   "mimetype": "text/x-python",
   "name": "python",
   "nbconvert_exporter": "python",
   "pygments_lexer": "ipython3",
   "version": "3.7.3"
  }
 },
 "nbformat": 4,
 "nbformat_minor": 2
}
