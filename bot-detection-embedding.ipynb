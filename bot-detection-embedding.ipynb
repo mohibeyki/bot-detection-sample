{
 "cells": [
  {
   "cell_type": "code",
   "execution_count": 1,
   "metadata": {},
   "outputs": [
    {
     "name": "stderr",
     "output_type": "stream",
     "text": [
      "Using TensorFlow backend.\n"
     ]
    }
   ],
   "source": [
    "import random\n",
    "import keras\n",
    "import keras_metrics\n",
    "import subprocess\n",
    "import pickle\n",
    "import numpy as np\n",
    "import pandas as pd\n",
    "import matplotlib.pyplot as plt\n",
    "\n",
    "from keras.layers import Dense, Embedding\n",
    "from keras.layers import LSTM\n",
    "from keras.models import Sequential\n",
    "from keras.preprocessing import sequence\n",
    "from keras.preprocessing.text import Tokenizer\n",
    "from nltk.corpus import stopwords\n",
    "from nltk.stem.porter import PorterStemmer\n",
    "from nltk.tokenize import word_tokenize\n",
    "\n",
    "from sklearn.metrics import roc_curve, roc_auc_score, auc\n",
    "\n",
    "tokenizer = Tokenizer()"
   ]
  },
  {
   "cell_type": "code",
   "execution_count": 2,
   "metadata": {},
   "outputs": [],
   "source": [
    "def extract_stems(line):\n",
    "    tokens = word_tokenize(line)\n",
    "    stop_words = set(stopwords.words('english'))\n",
    "    tokens = [w for w in tokens if w not in stop_words]\n",
    "    porter = PorterStemmer()\n",
    "    stems = []\n",
    "    for t in tokens:\n",
    "        stems.append(porter.stem(t))\n",
    "    return stems"
   ]
  },
  {
   "cell_type": "code",
   "execution_count": 3,
   "metadata": {},
   "outputs": [],
   "source": [
    "def get_one_hot(stems, vocab):\n",
    "    seq = []\n",
    "    for stem in stems:\n",
    "        if stem in vocab:\n",
    "            seq.append(vocab[stem] - 1)\n",
    "    return seq"
   ]
  },
  {
   "cell_type": "code",
   "execution_count": 4,
   "metadata": {},
   "outputs": [],
   "source": [
    "def load_vocab():\n",
    "    with open('vocab.pickle', 'rb') as f:\n",
    "        vocab = pickle.load(f)\n",
    "        return vocab"
   ]
  },
  {
   "cell_type": "code",
   "execution_count": 5,
   "metadata": {},
   "outputs": [],
   "source": [
    "class DataGenerator(keras.utils.Sequence):\n",
    "    'Generates data for Keras'\n",
    "    def __init__(self, vocab, maxlen, bot_file_name, gen_file_name, batch_size=64):\n",
    "        'Initialization'\n",
    "        self.bot_file_name = bot_file_name\n",
    "        self.gen_file_name = gen_file_name\n",
    "        self.vocab = vocab\n",
    "        self.maxlen = maxlen\n",
    "        self.size = int(subprocess.check_output(['wc', '-l', bot_file_name]).split()[0]) * 2\n",
    "        self.batch_size = batch_size\n",
    "        self.bot_file = open(self.bot_file_name, 'r', errors='ignore')\n",
    "        self.gen_file = open(self.gen_file_name, 'r', errors='ignore')\n",
    "        self.on_epoch_end()\n",
    "\n",
    "    def on_epoch_end(self):\n",
    "        self.bot_file = open(self.bot_file_name, 'r', errors='ignore')\n",
    "        self.gen_file = open(self.gen_file_name, 'r', errors='ignore')\n",
    "\n",
    "    def __len__(self):\n",
    "        'Denotes the number of batches per epoch'\n",
    "        return int(self.size / self.batch_size)\n",
    "\n",
    "    def __getitem__(self, index):\n",
    "        'Generate one batch of data'\n",
    "        bot_data = []\n",
    "        for _ in range(int(self.batch_size / 2)):\n",
    "            bot_data.append(self.bot_file.readline())\n",
    "        gen_data = []\n",
    "        for _ in range(int(self.batch_size / 2)):\n",
    "            gen_data.append(self.gen_file.readline())\n",
    "\n",
    "        x_data = []\n",
    "        for line in bot_data:\n",
    "            stems = extract_stems(line)\n",
    "            x_data.append(get_one_hot(stems, vocab))\n",
    "        for line in gen_data:\n",
    "            stems = extract_stems(line)\n",
    "            x_data.append(get_one_hot(stems, vocab))\n",
    "        y_data = [1] * len(bot_data) + [0] * len(gen_data)\n",
    "\n",
    "        train_set = list(zip(x_data, y_data))\n",
    "        random.shuffle(train_set)\n",
    "        x, y = zip(*train_set)\n",
    "        x = sequence.pad_sequences(np.array(x), maxlen=self.maxlen)\n",
    "        return x, np.array(y)"
   ]
  },
  {
   "cell_type": "code",
   "execution_count": 6,
   "metadata": {},
   "outputs": [],
   "source": [
    "def get_test_data(maxlen):\n",
    "    with open('test-bot.txt', 'r', errors='ignore') as file:\n",
    "        bot_data = file.readlines()\n",
    "\n",
    "    with open('test-gen.txt', 'r', errors='ignore') as file:\n",
    "        gen_data = file.readlines()\n",
    "\n",
    "    x_data = []\n",
    "    for line in bot_data:\n",
    "        stems = extract_stems(line)\n",
    "        x_data.append(get_one_hot(stems, vocab))\n",
    "    for line in gen_data:\n",
    "        stems = extract_stems(line)\n",
    "        x_data.append(get_one_hot(stems, vocab))\n",
    "    y_data = [1] * len(bot_data) + [0] * len(gen_data)\n",
    "    \n",
    "    x = sequence.pad_sequences(np.array(x_data), maxlen=maxlen)\n",
    "    return x, np.array(y_data)"
   ]
  },
  {
   "cell_type": "code",
   "execution_count": 12,
   "metadata": {},
   "outputs": [
    {
     "name": "stdout",
     "output_type": "stream",
     "text": [
      "vocab size: 10000\n"
     ]
    }
   ],
   "source": [
    "max_features = 10000\n",
    "maxlen = 32\n",
    "batch_size = 64\n",
    "vocab = load_vocab()\n",
    "print('vocab size:', len(vocab))"
   ]
  },
  {
   "cell_type": "code",
   "execution_count": 13,
   "metadata": {},
   "outputs": [],
   "source": [
    "training_generator = DataGenerator(vocab, maxlen, 'train-bot.txt', 'train-gen.txt', batch_size)\n",
    "validation_generator = DataGenerator(vocab, maxlen, 'validation-bot.txt', 'validation-gen.txt', batch_size)"
   ]
  },
  {
   "cell_type": "code",
   "execution_count": 14,
   "metadata": {},
   "outputs": [],
   "source": [
    "model = Sequential()\n",
    "model.add(Embedding(len(vocab), 128))\n",
    "model.add(LSTM(128, dropout=0.2, recurrent_dropout=0.2))\n",
    "model.add(Dense(1, activation='sigmoid'))\n",
    "model.compile(loss='binary_crossentropy',\n",
    "              optimizer='adam',\n",
    "              metrics=['accuracy',keras_metrics.precision(), keras_metrics.recall()])"
   ]
  },
  {
   "cell_type": "code",
   "execution_count": 15,
   "metadata": {},
   "outputs": [
    {
     "name": "stdout",
     "output_type": "stream",
     "text": [
      "Epoch 1/20\n",
      "7500/7500 [==============================] - 199s 27ms/step - loss: 0.0841 - acc: 0.9723 - precision: 0.9828 - recall: 0.9616 - val_loss: 0.0616 - val_acc: 0.9801 - val_precision: 0.9893 - val_recall: 0.9707\n",
      "Epoch 2/20\n",
      "7500/7500 [==============================] - 197s 26ms/step - loss: 0.0532 - acc: 0.9826 - precision: 0.9910 - recall: 0.9741 - val_loss: 0.0565 - val_acc: 0.9822 - val_precision: 0.9900 - val_recall: 0.9743\n",
      "Epoch 3/20\n",
      "7500/7500 [==============================] - 198s 26ms/step - loss: 0.0436 - acc: 0.9858 - precision: 0.9930 - recall: 0.9785 - val_loss: 0.0554 - val_acc: 0.9828 - val_precision: 0.9901 - val_recall: 0.9754\n",
      "Epoch 4/20\n",
      "7500/7500 [==============================] - 198s 26ms/step - loss: 0.0371 - acc: 0.9879 - precision: 0.9942 - recall: 0.9816 - val_loss: 0.0581 - val_acc: 0.9834 - val_precision: 0.9892 - val_recall: 0.9775\n",
      "Epoch 5/20\n",
      "7500/7500 [==============================] - 198s 26ms/step - loss: 0.0320 - acc: 0.9897 - precision: 0.9952 - recall: 0.9842 - val_loss: 0.0646 - val_acc: 0.9829 - val_precision: 0.9886 - val_recall: 0.9770\n",
      "Epoch 6/20\n",
      "7500/7500 [==============================] - 198s 26ms/step - loss: 0.0275 - acc: 0.9910 - precision: 0.9959 - recall: 0.9862 - val_loss: 0.0685 - val_acc: 0.9829 - val_precision: 0.9875 - val_recall: 0.9781\n",
      "Epoch 7/20\n",
      "7500/7500 [==============================] - 198s 26ms/step - loss: 0.0243 - acc: 0.9921 - precision: 0.9963 - recall: 0.9879 - val_loss: 0.0748 - val_acc: 0.9820 - val_precision: 0.9851 - val_recall: 0.9788\n",
      "Epoch 8/20\n",
      "7500/7500 [==============================] - 198s 26ms/step - loss: 0.0214 - acc: 0.9931 - precision: 0.9968 - recall: 0.9893 - val_loss: 0.0733 - val_acc: 0.9826 - val_precision: 0.9860 - val_recall: 0.9790\n",
      "Epoch 9/20\n",
      "7500/7500 [==============================] - 198s 26ms/step - loss: 0.0191 - acc: 0.9938 - precision: 0.9972 - recall: 0.9904 - val_loss: 0.0829 - val_acc: 0.9821 - val_precision: 0.9847 - val_recall: 0.9793\n",
      "Epoch 10/20\n",
      "7500/7500 [==============================] - 197s 26ms/step - loss: 0.0173 - acc: 0.9944 - precision: 0.9974 - recall: 0.9914 - val_loss: 0.0862 - val_acc: 0.9820 - val_precision: 0.9843 - val_recall: 0.9795\n",
      "Epoch 11/20\n",
      "7500/7500 [==============================] - 198s 26ms/step - loss: 0.0159 - acc: 0.9948 - precision: 0.9975 - recall: 0.9920 - val_loss: 0.0862 - val_acc: 0.9821 - val_precision: 0.9858 - val_recall: 0.9783\n",
      "Epoch 12/20\n",
      "7500/7500 [==============================] - 198s 26ms/step - loss: 0.0147 - acc: 0.9952 - precision: 0.9977 - recall: 0.9928 - val_loss: 0.0925 - val_acc: 0.9819 - val_precision: 0.9848 - val_recall: 0.9789\n",
      "Epoch 13/20\n",
      "7500/7500 [==============================] - 198s 26ms/step - loss: 0.0138 - acc: 0.9954 - precision: 0.9978 - recall: 0.9930 - val_loss: 0.0973 - val_acc: 0.9818 - val_precision: 0.9847 - val_recall: 0.9789\n",
      "Epoch 14/20\n",
      "7500/7500 [==============================] - 198s 26ms/step - loss: 0.0130 - acc: 0.9957 - precision: 0.9978 - recall: 0.9937 - val_loss: 0.0948 - val_acc: 0.9821 - val_precision: 0.9851 - val_recall: 0.9789\n",
      "Epoch 15/20\n",
      "7500/7500 [==============================] - 198s 26ms/step - loss: 0.0124 - acc: 0.9959 - precision: 0.9979 - recall: 0.9938 - val_loss: 0.1051 - val_acc: 0.9810 - val_precision: 0.9823 - val_recall: 0.9797\n",
      "Epoch 16/20\n",
      "7500/7500 [==============================] - 198s 26ms/step - loss: 0.0120 - acc: 0.9961 - precision: 0.9981 - recall: 0.9941 - val_loss: 0.0989 - val_acc: 0.9824 - val_precision: 0.9865 - val_recall: 0.9782\n",
      "Epoch 17/20\n",
      "7500/7500 [==============================] - 198s 26ms/step - loss: 0.0113 - acc: 0.9962 - precision: 0.9981 - recall: 0.9943 - val_loss: 0.1054 - val_acc: 0.9813 - val_precision: 0.9819 - val_recall: 0.9806\n",
      "Epoch 18/20\n",
      "7500/7500 [==============================] - 198s 26ms/step - loss: 0.0114 - acc: 0.9962 - precision: 0.9981 - recall: 0.9944 - val_loss: 0.1069 - val_acc: 0.9816 - val_precision: 0.9835 - val_recall: 0.9796\n",
      "Epoch 19/20\n",
      "7500/7500 [==============================] - 198s 26ms/step - loss: 0.0107 - acc: 0.9964 - precision: 0.9982 - recall: 0.9946 - val_loss: 0.1072 - val_acc: 0.9815 - val_precision: 0.9829 - val_recall: 0.9801\n",
      "Epoch 20/20\n",
      "7500/7500 [==============================] - 199s 26ms/step - loss: 0.0106 - acc: 0.9965 - precision: 0.9981 - recall: 0.9948 - val_loss: 0.1065 - val_acc: 0.9826 - val_precision: 0.9854 - val_recall: 0.9797\n"
     ]
    }
   ],
   "source": [
    "history = model.fit_generator(generator=training_generator,\n",
    "                    validation_data=validation_generator,\n",
    "                    epochs=20)"
   ]
  },
  {
   "cell_type": "code",
   "execution_count": 24,
   "metadata": {},
   "outputs": [
    {
     "name": "stdout",
     "output_type": "stream",
     "text": [
      "Saved model to disk\n"
     ]
    }
   ],
   "source": [
    "model.save_weights(\"lstm-s-3/model.h5\")\n",
    "print(\"Saved model to disk\")"
   ]
  },
  {
   "cell_type": "code",
   "execution_count": 25,
   "metadata": {},
   "outputs": [
    {
     "data": {
      "image/png": "[encoded data removed]",
      "text/plain": [
       "<Figure size 432x288 with 1 Axes>"
      ]
     },
     "metadata": {
      "needs_background": "light"
     },
     "output_type": "display_data"
    }
   ],
   "source": [
    "plt.xlim(left=-1, right=21)\n",
    "plt.title('precision')\n",
    "plt.plot(history.history['precision'], label='train')\n",
    "plt.savefig('lstm-s-3/precision.svg')"
   ]
  },
  {
   "cell_type": "code",
   "execution_count": 26,
   "metadata": {},
   "outputs": [
    {
     "data": {
      "image/png": "[encoded data removed]",
      "text/plain": [
       "<Figure size 432x288 with 1 Axes>"
      ]
     },
     "metadata": {
      "needs_background": "light"
     },
     "output_type": "display_data"
    }
   ],
   "source": [
    "plt.xlim(left=-1, right=21)\n",
    "plt.title('acc')\n",
    "plt.plot(history.history['acc'], label='train')\n",
    "plt.savefig('lstm-s-3/accuracy.svg')"
   ]
  },
  {
   "cell_type": "code",
   "execution_count": 27,
   "metadata": {},
   "outputs": [
    {
     "data": {
      "image/png": "[encoded data removed]",
      "text/plain": [
       "<Figure size 432x288 with 1 Axes>"
      ]
     },
     "metadata": {
      "needs_background": "light"
     },
     "output_type": "display_data"
    }
   ],
   "source": [
    "plt.xlim(left=-1, right=21)\n",
    "plt.title('recall')\n",
    "plt.plot(history.history['recall'], label='train')\n",
    "plt.savefig('lstm-s-3/recall.svg')"
   ]
  },
  {
   "cell_type": "code",
   "execution_count": 28,
   "metadata": {},
   "outputs": [],
   "source": [
    "x_test, y_test = get_test_data(maxlen)"
   ]
  },
  {
   "cell_type": "code",
   "execution_count": 29,
   "metadata": {},
   "outputs": [],
   "source": [
    "y_pred = model.predict(x_test).ravel()\n",
    "fpr, tpr, threshold = roc_curve(y_test, y_pred)"
   ]
  },
  {
   "cell_type": "code",
   "execution_count": 30,
   "metadata": {},
   "outputs": [
    {
     "data": {
      "image/png": "[encoded data removed]",
      "text/plain": [
       "<Figure size 432x288 with 1 Axes>"
      ]
     },
     "metadata": {
      "needs_background": "light"
     },
     "output_type": "display_data"
    }
   ],
   "source": [
    "plt.figure(1)\n",
    "plt.plot([0, 1], [0, 1], 'k--')\n",
    "plt.plot(fpr, tpr, label='(area = {:.3f})'.format(auc(fpr, tpr)))\n",
    "plt.xlabel('False positive rate')\n",
    "plt.ylabel('True positive rate')\n",
    "plt.title('ROC curve')\n",
    "plt.legend(loc='best')\n",
    "plt.savefig('lstm-s-3/roc.svg')"
   ]
  },
  {
   "cell_type": "code",
   "execution_count": 31,
   "metadata": {},
   "outputs": [
    {
     "name": "stdout",
     "output_type": "stream",
     "text": [
      "160000/160000 [==============================] - 13s 79us/step\n",
      "score: 0.11244220223028406\n",
      "accuracy: 0.98198125\n",
      "precision: 0.9846285333622605\n",
      "recall: 0.9792499999987759\n"
     ]
    }
   ],
   "source": [
    "score, acc, p, r = model.evaluate(x_test, y_test,\n",
    "                           batch_size=batch_size)\n",
    "print('score:', score)\n",
    "print('accuracy:', acc)\n",
    "print('precision:', p)\n",
    "print('recall:', r)"
   ]
  },
  {
   "cell_type": "code",
   "execution_count": null,
   "metadata": {},
   "outputs": [],
   "source": []
  }
 ],
 "metadata": {
  "kernelspec": {
   "display_name": "Python 3",
   "language": "python",
   "name": "python3"
  },
  "language_info": {
   "codemirror_mode": {
    "name": "ipython",
    "version": 3
   },
   "file_extension": ".py",
   "mimetype": "text/x-python",
   "name": "python",
   "nbconvert_exporter": "python",
   "pygments_lexer": "ipython3",
   "version": "3.7.3"
  }
 },
 "nbformat": 4,
 "nbformat_minor": 2
}
