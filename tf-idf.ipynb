{
 "cells": [
  {
   "cell_type": "code",
   "execution_count": 1,
   "metadata": {},
   "outputs": [
    {
     "name": "stderr",
     "output_type": "stream",
     "text": [
      "Using TensorFlow backend.\n"
     ]
    }
   ],
   "source": [
    "import random\n",
    "import keras\n",
    "import subprocess\n",
    "import pickle\n",
    "import keras_metrics as km\n",
    "import numpy as np\n",
    "import pandas as pd\n",
    "import matplotlib.pyplot as plt\n",
    "\n",
    "from keras.layers import Dense, Embedding, Dropout, LSTM, Activation, Conv1D, GlobalMaxPooling1D\n",
    "from keras.models import Sequential\n",
    "from keras.preprocessing import sequence\n",
    "from keras.preprocessing.text import Tokenizer\n",
    "from keras.callbacks import Callback\n",
    "\n",
    "from nltk.corpus import stopwords\n",
    "from nltk.stem.porter import PorterStemmer\n",
    "from nltk.tokenize import word_tokenize\n",
    "\n",
    "from sklearn.metrics import roc_curve, roc_auc_score, auc\n",
    "from sklearn.feature_extraction.text import TfidfVectorizer\n",
    "\n",
    "tokenizer = Tokenizer()"
   ]
  },
  {
   "cell_type": "code",
   "execution_count": 2,
   "metadata": {},
   "outputs": [],
   "source": [
    "# Reads the file, generates y data, makes a zip out of each x & y and then shuffles them\n",
    "def get_data(bot_file, gen_file):\n",
    "    x_data = []\n",
    "    with open(bot_file, 'r', errors='ignore') as file:\n",
    "        for line in file:\n",
    "            x_data.append(line)\n",
    "\n",
    "    size = len(x_data)\n",
    "\n",
    "    with open(gen_file, 'r', errors='ignore') as file:\n",
    "        for line in file:\n",
    "            x_data.append(line)\n",
    "\n",
    "    y_data = [1] * size + [0] * size\n",
    "\n",
    "    train_set = list(zip(x_data, y_data))\n",
    "    random.shuffle(train_set)\n",
    "    x, y = zip(*train_set)\n",
    "    return np.array(x), np.array(y)"
   ]
  },
  {
   "cell_type": "code",
   "execution_count": 3,
   "metadata": {},
   "outputs": [],
   "source": [
    "x, y = get_data('trv-bot.txt', 'trv-gen.txt')"
   ]
  },
  {
   "cell_type": "code",
   "execution_count": 4,
   "metadata": {},
   "outputs": [],
   "source": [
    "x_test, y_test = get_data('test-bot.txt', 'test-gen.txt')"
   ]
  },
  {
   "cell_type": "code",
   "execution_count": 5,
   "metadata": {},
   "outputs": [
    {
     "name": "stdout",
     "output_type": "stream",
     "text": [
      "<class 'numpy.ndarray'> (639996, 100)\n"
     ]
    }
   ],
   "source": [
    "vec = TfidfVectorizer(max_features=100,\n",
    "                      tokenizer=word_tokenize,\n",
    "                      strip_accents='unicode',\n",
    "                      lowercase =True,\n",
    "                      analyzer='word',\n",
    "                      token_pattern=r'\\w+',\n",
    "                      use_idf=True,\n",
    "                      smooth_idf=True,\n",
    "                      sublinear_tf=False, \n",
    "                      stop_words = 'english'\n",
    "                     )\n",
    "tfidf_mat = vec.fit_transform(x).toarray()\n",
    "print(type(tfidf_mat),tfidf_mat.shape)"
   ]
  },
  {
   "cell_type": "code",
   "execution_count": 6,
   "metadata": {},
   "outputs": [
    {
     "name": "stdout",
     "output_type": "stream",
     "text": [
      "<class 'numpy.ndarray'> (159996, 100)\n"
     ]
    }
   ],
   "source": [
    "test_tfidf_mat = vec.transform(x_test).toarray()\n",
    "print(type(test_tfidf_mat),test_tfidf_mat.shape)"
   ]
  },
  {
   "cell_type": "code",
   "execution_count": 7,
   "metadata": {},
   "outputs": [
    {
     "name": "stdout",
     "output_type": "stream",
     "text": [
      "WARNING:tensorflow:From /opt/anaconda/lib/python3.7/site-packages/tensorflow/python/framework/op_def_library.py:263: colocate_with (from tensorflow.python.framework.ops) is deprecated and will be removed in a future version.\n",
      "Instructions for updating:\n",
      "Colocations handled automatically by placer.\n",
      "WARNING:tensorflow:From /opt/anaconda/lib/python3.7/site-packages/keras/backend/tensorflow_backend.py:3445: calling dropout (from tensorflow.python.ops.nn_ops) with keep_prob is deprecated and will be removed in a future version.\n",
      "Instructions for updating:\n",
      "Please use `rate` instead of `keep_prob`. Rate should be set to `rate = 1 - keep_prob`.\n",
      "_________________________________________________________________\n",
      "Layer (type)                 Output Shape              Param #   \n",
      "=================================================================\n",
      "dense_1 (Dense)              (None, 512)               51712     \n",
      "_________________________________________________________________\n",
      "dropout_1 (Dropout)          (None, 512)               0         \n",
      "_________________________________________________________________\n",
      "dense_2 (Dense)              (None, 512)               262656    \n",
      "_________________________________________________________________\n",
      "dropout_2 (Dropout)          (None, 512)               0         \n",
      "_________________________________________________________________\n",
      "dense_3 (Dense)              (None, 512)               262656    \n",
      "_________________________________________________________________\n",
      "dropout_3 (Dropout)          (None, 512)               0         \n",
      "_________________________________________________________________\n",
      "dense_4 (Dense)              (None, 512)               262656    \n",
      "_________________________________________________________________\n",
      "dropout_4 (Dropout)          (None, 512)               0         \n",
      "_________________________________________________________________\n",
      "dense_5 (Dense)              (None, 256)               131328    \n",
      "_________________________________________________________________\n",
      "dropout_5 (Dropout)          (None, 256)               0         \n",
      "_________________________________________________________________\n",
      "dense_6 (Dense)              (None, 64)                16448     \n",
      "_________________________________________________________________\n",
      "dense_7 (Dense)              (None, 1)                 65        \n",
      "_________________________________________________________________\n",
      "activation_1 (Activation)    (None, 1)                 0         \n",
      "=================================================================\n",
      "Total params: 987,521\n",
      "Trainable params: 987,521\n",
      "Non-trainable params: 0\n",
      "_________________________________________________________________\n"
     ]
    }
   ],
   "source": [
    "model = Sequential()\n",
    "model.add(Dense(512,input_shape=(100,), activation='relu'))\n",
    "model.add(Dropout(0.2))\n",
    "model.add(Dense(512, activation='relu'))\n",
    "model.add(Dropout(0.2))\n",
    "model.add(Dense(512, activation='relu'))\n",
    "model.add(Dropout(0.2))\n",
    "model.add(Dense(512, activation='relu'))\n",
    "model.add(Dropout(0.2))\n",
    "model.add(Dense(256, activation='relu'))\n",
    "model.add(Dropout(0.2))\n",
    "model.add(Dense(64, activation='relu'))\n",
    "model.add(Dense(1))\n",
    "model.add(Activation('sigmoid'))\n",
    "model.summary()\n",
    "model.compile(\n",
    "    loss='binary_crossentropy',\n",
    "    optimizer='adam',\n",
    "    metrics=['accuracy',km.binary_precision(), km.binary_recall()]\n",
    ")"
   ]
  },
  {
   "cell_type": "code",
   "execution_count": 8,
   "metadata": {},
   "outputs": [
    {
     "name": "stdout",
     "output_type": "stream",
     "text": [
      "WARNING:tensorflow:From /opt/anaconda/lib/python3.7/site-packages/tensorflow/python/ops/math_ops.py:3066: to_int32 (from tensorflow.python.ops.math_ops) is deprecated and will be removed in a future version.\n",
      "Instructions for updating:\n",
      "Use tf.cast instead.\n",
      "Train on 479997 samples, validate on 159999 samples\n",
      "Epoch 1/20\n",
      "479997/479997 [==============================] - 9s 19us/step - loss: 0.3236 - acc: 0.8511 - precision: 0.8931 - recall: 0.7976 - val_loss: 0.3021 - val_acc: 0.8635 - val_precision: 0.9153 - val_recall: 0.8013\n",
      "Epoch 2/20\n",
      "479997/479997 [==============================] - 8s 17us/step - loss: 0.3020 - acc: 0.8626 - precision: 0.9027 - recall: 0.8126 - val_loss: 0.2938 - val_acc: 0.8649 - val_precision: 0.8955 - val_recall: 0.8265\n",
      "Epoch 3/20\n",
      "479997/479997 [==============================] - 8s 17us/step - loss: 0.2954 - acc: 0.8657 - precision: 0.9096 - recall: 0.8121 - val_loss: 0.2915 - val_acc: 0.8673 - val_precision: 0.9106 - val_recall: 0.8149\n",
      "Epoch 4/20\n",
      "479997/479997 [==============================] - 8s 17us/step - loss: 0.2910 - acc: 0.8677 - precision: 0.9128 - recall: 0.8129 - val_loss: 0.2903 - val_acc: 0.8686 - val_precision: 0.9080 - val_recall: 0.8205\n",
      "Epoch 5/20\n",
      "479997/479997 [==============================] - 8s 17us/step - loss: 0.2879 - acc: 0.8694 - precision: 0.9160 - recall: 0.8133 - val_loss: 0.2873 - val_acc: 0.8690 - val_precision: 0.9144 - val_recall: 0.8145\n",
      "Epoch 6/20\n",
      "479997/479997 [==============================] - 8s 17us/step - loss: 0.2850 - acc: 0.8703 - precision: 0.9182 - recall: 0.8130 - val_loss: 0.2861 - val_acc: 0.8693 - val_precision: 0.9087 - val_recall: 0.8214\n",
      "Epoch 7/20\n",
      "479997/479997 [==============================] - 8s 17us/step - loss: 0.2830 - acc: 0.8713 - precision: 0.9178 - recall: 0.8157 - val_loss: 0.2852 - val_acc: 0.8705 - val_precision: 0.9133 - val_recall: 0.8190\n",
      "Epoch 8/20\n",
      "479997/479997 [==============================] - 8s 17us/step - loss: 0.2806 - acc: 0.8722 - precision: 0.9187 - recall: 0.8167 - val_loss: 0.2855 - val_acc: 0.8704 - val_precision: 0.9217 - val_recall: 0.8098\n",
      "Epoch 9/20\n",
      "479997/479997 [==============================] - 8s 18us/step - loss: 0.2790 - acc: 0.8733 - precision: 0.9210 - recall: 0.8165 - val_loss: 0.2837 - val_acc: 0.8716 - val_precision: 0.9214 - val_recall: 0.8129\n",
      "Epoch 10/20\n",
      "479997/479997 [==============================] - 8s 18us/step - loss: 0.2775 - acc: 0.8734 - precision: 0.9195 - recall: 0.8183 - val_loss: 0.2842 - val_acc: 0.8714 - val_precision: 0.9262 - val_recall: 0.8073\n",
      "Epoch 11/20\n",
      "479997/479997 [==============================] - 8s 18us/step - loss: 0.2763 - acc: 0.8741 - precision: 0.9218 - recall: 0.8175 - val_loss: 0.2844 - val_acc: 0.8707 - val_precision: 0.9339 - val_recall: 0.7982\n",
      "Epoch 12/20\n",
      "479997/479997 [==============================] - 8s 17us/step - loss: 0.2752 - acc: 0.8745 - precision: 0.9212 - recall: 0.8189 - val_loss: 0.2855 - val_acc: 0.8710 - val_precision: 0.9317 - val_recall: 0.8010\n",
      "Epoch 13/20\n",
      "479997/479997 [==============================] - 9s 18us/step - loss: 0.2739 - acc: 0.8751 - precision: 0.9223 - recall: 0.8191 - val_loss: 0.2831 - val_acc: 0.8718 - val_precision: 0.9287 - val_recall: 0.8057\n",
      "Epoch 14/20\n",
      "479997/479997 [==============================] - 9s 18us/step - loss: 0.2730 - acc: 0.8752 - precision: 0.9209 - recall: 0.8209 - val_loss: 0.2851 - val_acc: 0.8713 - val_precision: 0.9241 - val_recall: 0.8093\n",
      "Epoch 15/20\n",
      "479997/479997 [==============================] - 8s 17us/step - loss: 0.2722 - acc: 0.8756 - precision: 0.9223 - recall: 0.8201 - val_loss: 0.2839 - val_acc: 0.8714 - val_precision: 0.9123 - val_recall: 0.8221\n",
      "Epoch 16/20\n",
      "479997/479997 [==============================] - 8s 17us/step - loss: 0.2709 - acc: 0.8764 - precision: 0.9211 - recall: 0.8232 - val_loss: 0.2856 - val_acc: 0.8715 - val_precision: 0.9297 - val_recall: 0.8042\n",
      "Epoch 17/20\n",
      "479997/479997 [==============================] - 8s 17us/step - loss: 0.2700 - acc: 0.8766 - precision: 0.9213 - recall: 0.8235 - val_loss: 0.2844 - val_acc: 0.8721 - val_precision: 0.9140 - val_recall: 0.8217\n",
      "Epoch 18/20\n",
      "479997/479997 [==============================] - 8s 17us/step - loss: 0.2693 - acc: 0.8769 - precision: 0.9217 - recall: 0.8236 - val_loss: 0.2872 - val_acc: 0.8720 - val_precision: 0.9156 - val_recall: 0.8197\n",
      "Epoch 19/20\n",
      "479997/479997 [==============================] - 8s 17us/step - loss: 0.2683 - acc: 0.8772 - precision: 0.9200 - recall: 0.8262 - val_loss: 0.2834 - val_acc: 0.8723 - val_precision: 0.9218 - val_recall: 0.8138\n",
      "Epoch 20/20\n",
      "479997/479997 [==============================] - 8s 18us/step - loss: 0.2673 - acc: 0.8779 - precision: 0.9212 - recall: 0.8265 - val_loss: 0.2905 - val_acc: 0.8712 - val_precision: 0.9105 - val_recall: 0.8236\n"
     ]
    }
   ],
   "source": [
    "history = model.fit(\n",
    "    tfidf_mat,\n",
    "    y,\n",
    "    batch_size=128,\n",
    "    epochs=20,\n",
    "    verbose=1,\n",
    "    validation_split=0.25\n",
    ")"
   ]
  },
  {
   "cell_type": "code",
   "execution_count": 9,
   "metadata": {},
   "outputs": [
    {
     "data": {
      "image/png": "[encoded data removed]",
      "text/plain": [
       "<Figure size 432x288 with 1 Axes>"
      ]
     },
     "metadata": {
      "needs_background": "light"
     },
     "output_type": "display_data"
    }
   ],
   "source": [
    "plt.xlim(left=-1, right=21)\n",
    "plt.title('precision')\n",
    "plt.plot(history.history['precision'], label='train')\n",
    "plt.savefig('tfidf-c/precision.svg')"
   ]
  },
  {
   "cell_type": "code",
   "execution_count": 10,
   "metadata": {},
   "outputs": [
    {
     "data": {
      "image/png": "[encoded data removed]",
      "text/plain": [
       "<Figure size 432x288 with 1 Axes>"
      ]
     },
     "metadata": {
      "needs_background": "light"
     },
     "output_type": "display_data"
    }
   ],
   "source": [
    "plt.xlim(left=-1, right=21)\n",
    "plt.title('acc')\n",
    "plt.plot(history.history['acc'], label='train')\n",
    "plt.savefig('tfidf-c/accuracy.svg')"
   ]
  },
  {
   "cell_type": "code",
   "execution_count": 11,
   "metadata": {},
   "outputs": [
    {
     "data": {
      "image/png": "[encoded data removed]",
      "text/plain": [
       "<Figure size 432x288 with 1 Axes>"
      ]
     },
     "metadata": {
      "needs_background": "light"
     },
     "output_type": "display_data"
    }
   ],
   "source": [
    "plt.xlim(left=-1, right=21)\n",
    "plt.title('recall')\n",
    "plt.plot(history.history['recall'], label='train')\n",
    "plt.savefig('tfidf-c/recall.svg')"
   ]
  },
  {
   "cell_type": "code",
   "execution_count": 12,
   "metadata": {},
   "outputs": [],
   "source": [
    "y_pred = model.predict(test_tfidf_mat).ravel()\n",
    "fpr, tpr, threshold = roc_curve(y_test, y_pred)"
   ]
  },
  {
   "cell_type": "code",
   "execution_count": 13,
   "metadata": {},
   "outputs": [
    {
     "data": {
      "image/png": "[encoded data removed]",
      "text/plain": [
       "<Figure size 432x288 with 1 Axes>"
      ]
     },
     "metadata": {
      "needs_background": "light"
     },
     "output_type": "display_data"
    }
   ],
   "source": [
    "plt.figure(1)\n",
    "plt.plot([0, 1], [0, 1], 'k--')\n",
    "plt.plot(fpr, tpr, label='(area = {:.3f})'.format(auc(fpr, tpr)))\n",
    "plt.xlabel('False positive rate')\n",
    "plt.ylabel('True positive rate')\n",
    "plt.title('ROC curve')\n",
    "plt.legend(loc='best')\n",
    "plt.savefig('tfidf-c/roc.svg')"
   ]
  },
  {
   "cell_type": "code",
   "execution_count": 14,
   "metadata": {},
   "outputs": [
    {
     "name": "stdout",
     "output_type": "stream",
     "text": [
      "159996/159996 [==============================] - 3s 18us/step\n",
      "score: 0.29231374976809266\n",
      "accuracy: 0.8717905447665995\n",
      "precision: 0.9118033921759615\n",
      "recall: 0.823208080200976\n"
     ]
    }
   ],
   "source": [
    "score, acc, p, r = model.evaluate(test_tfidf_mat, y_test)\n",
    "print('score:', score)\n",
    "print('accuracy:', acc)\n",
    "print('precision:', p)\n",
    "print('recall:', r)"
   ]
  },
  {
   "cell_type": "code",
   "execution_count": 15,
   "metadata": {},
   "outputs": [
    {
     "name": "stdout",
     "output_type": "stream",
     "text": [
      "Saved model to disk\n"
     ]
    }
   ],
   "source": [
    "model.save_weights(\"tfidf-c/model.h5\")\n",
    "print(\"Saved model to disk\")"
   ]
  },
  {
   "cell_type": "code",
   "execution_count": null,
   "metadata": {},
   "outputs": [],
   "source": []
  }
 ],
 "metadata": {
  "kernelspec": {
   "display_name": "Python 3",
   "language": "python",
   "name": "python3"
  },
  "language_info": {
   "codemirror_mode": {
    "name": "ipython",
    "version": 3
   },
   "file_extension": ".py",
   "mimetype": "text/x-python",
   "name": "python",
   "nbconvert_exporter": "python",
   "pygments_lexer": "ipython3",
   "version": "3.7.3"
  }
 },
 "nbformat": 4,
 "nbformat_minor": 2
}
