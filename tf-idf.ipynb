{
 "cells": [
  {
   "cell_type": "code",
   "execution_count": 33,
   "metadata": {},
   "outputs": [],
   "source": [
    "import random\n",
    "import keras\n",
    "import keras_metrics\n",
    "import subprocess\n",
    "import pickle\n",
    "import numpy as np\n",
    "import pandas as pd\n",
    "import matplotlib.pyplot as plt\n",
    "\n",
    "from keras.layers import Dense, Embedding, Dropout, LSTM, Activation, Conv1D, GlobalMaxPooling1D\n",
    "from keras.models import Sequential\n",
    "from keras.preprocessing import sequence\n",
    "from keras.preprocessing.text import Tokenizer\n",
    "from nltk.corpus import stopwords\n",
    "from nltk.stem.porter import PorterStemmer\n",
    "from nltk.tokenize import word_tokenize\n",
    "\n",
    "from sklearn.feature_extraction.text import TfidfVectorizer\n",
    "\n",
    "tokenizer = Tokenizer()"
   ]
  },
  {
   "cell_type": "code",
   "execution_count": 34,
   "metadata": {},
   "outputs": [],
   "source": [
    "def get_data(bot_file, gen_file):\n",
    "    x_data = []\n",
    "    with open(bot_file, 'r', errors='ignore') as file:\n",
    "        for line in file:\n",
    "            x_data.append(line)\n",
    "\n",
    "    size = len(x_data)\n",
    "\n",
    "    with open(gen_file, 'r', errors='ignore') as file:\n",
    "        for line in file:\n",
    "            x_data.append(line)\n",
    "\n",
    "    y_data = [1] * size + [0] * size\n",
    "\n",
    "    train_set = list(zip(x_data, y_data))\n",
    "    random.shuffle(train_set)\n",
    "    x, y = zip(*train_set)\n",
    "    return np.array(x), np.array(y)"
   ]
  },
  {
   "cell_type": "code",
   "execution_count": 50,
   "metadata": {},
   "outputs": [],
   "source": [
    "x, y = get_data('train-bot.txt', 'train-gen.txt')"
   ]
  },
  {
   "cell_type": "code",
   "execution_count": 51,
   "metadata": {},
   "outputs": [
    {
     "name": "stdout",
     "output_type": "stream",
     "text": [
      "<class 'numpy.ndarray'> (600000, 100)\n"
     ]
    }
   ],
   "source": [
    "vec = TfidfVectorizer(max_features=100,\n",
    "                      tokenizer=word_tokenize,\n",
    "                      strip_accents='unicode',\n",
    "                      lowercase =True,\n",
    "                      analyzer='word',\n",
    "                      token_pattern=r'\\w+',\n",
    "                      use_idf=True,\n",
    "                      smooth_idf=True,\n",
    "                      sublinear_tf=False, \n",
    "                      stop_words = 'english'\n",
    "                     )\n",
    "tfidf_mat = vec.fit_transform(x).toarray()\n",
    "print(type(tfidf_mat),tfidf_mat.shape)"
   ]
  },
  {
   "cell_type": "code",
   "execution_count": 52,
   "metadata": {},
   "outputs": [
    {
     "name": "stdout",
     "output_type": "stream",
     "text": [
      "_________________________________________________________________\n",
      "Layer (type)                 Output Shape              Param #   \n",
      "=================================================================\n",
      "dense_25 (Dense)             (None, 512)               51712     \n",
      "_________________________________________________________________\n",
      "dropout_17 (Dropout)         (None, 512)               0         \n",
      "_________________________________________________________________\n",
      "dense_26 (Dense)             (None, 256)               131328    \n",
      "_________________________________________________________________\n",
      "dropout_18 (Dropout)         (None, 256)               0         \n",
      "_________________________________________________________________\n",
      "dense_27 (Dense)             (None, 256)               65792     \n",
      "_________________________________________________________________\n",
      "dropout_19 (Dropout)         (None, 256)               0         \n",
      "_________________________________________________________________\n",
      "dense_28 (Dense)             (None, 64)                16448     \n",
      "_________________________________________________________________\n",
      "dropout_20 (Dropout)         (None, 64)                0         \n",
      "_________________________________________________________________\n",
      "dense_29 (Dense)             (None, 1)                 65        \n",
      "_________________________________________________________________\n",
      "activation_9 (Activation)    (None, 1)                 0         \n",
      "=================================================================\n",
      "Total params: 265,345\n",
      "Trainable params: 265,345\n",
      "Non-trainable params: 0\n",
      "_________________________________________________________________\n"
     ]
    }
   ],
   "source": [
    "model = Sequential()\n",
    "model.add(Dense(512,input_shape=(100,), activation='relu'))\n",
    "model.add(Dropout(0.2))\n",
    "model.add(Dense(256, activation='relu'))\n",
    "model.add(Dropout(0.2))\n",
    "model.add(Dense(256, activation='relu'))\n",
    "model.add(Dropout(0.2))\n",
    "model.add(Dense(64, activation='relu'))\n",
    "model.add(Dropout(0.2))\n",
    "model.add(Dense(1))\n",
    "model.add(Activation('sigmoid'))\n",
    "model.summary()\n",
    "model.compile(\n",
    "    loss='binary_crossentropy',\n",
    "    optimizer='adam',\n",
    "    metrics=['accuracy',keras_metrics.precision(), keras_metrics.recall()]\n",
    ")\n",
    "\n",
    "# model = Sequential()\n",
    "# model.add(Dense(512,input_shape=(100,), activation='relu'))\n",
    "# model.add(Dropout(0.15))\n",
    "# model.add(Dense(512, activation='relu'))\n",
    "# model.add(Dropout(0.15))\n",
    "# model.add(Dense(512, activation='relu'))\n",
    "# model.add(Dropout(0.15))\n",
    "# model.add(Dense(512, activation='relu'))\n",
    "# model.add(Dense(256, activation='relu'))\n",
    "# model.add(Dense(64, activation='relu'))\n",
    "# model.add(Dense(16, activation='relu'))\n",
    "# model.add(Dense(1, activation=\"softmax\"))\n",
    "# model.summary()\n",
    "# model.compile(loss='binary_crossentropy', optimizer='adam', metrics=['accuracy',keras_metrics.precision(), keras_metrics.recall()])"
   ]
  },
  {
   "cell_type": "code",
   "execution_count": 53,
   "metadata": {},
   "outputs": [
    {
     "name": "stdout",
     "output_type": "stream",
     "text": [
      "Train on 480000 samples, validate on 120000 samples\n",
      "Epoch 1/20\n",
      "480000/480000 [==============================] - 16s 34us/step - loss: 0.1895 - acc: 0.9240 - precision: 0.9346 - recall: 0.9116 - val_loss: 0.1653 - val_acc: 0.9360 - val_precision: 0.9430 - val_recall: 0.9282\n",
      "Epoch 2/20\n",
      "480000/480000 [==============================] - 15s 32us/step - loss: 0.1616 - acc: 0.9370 - precision: 0.9469 - recall: 0.9259 - val_loss: 0.1549 - val_acc: 0.9395 - val_precision: 0.9422 - val_recall: 0.9367\n",
      "Epoch 3/20\n",
      "480000/480000 [==============================] - 15s 31us/step - loss: 0.1546 - acc: 0.9401 - precision: 0.9503 - recall: 0.9288 - val_loss: 0.1519 - val_acc: 0.9411 - val_precision: 0.9458 - val_recall: 0.9360\n",
      "Epoch 4/20\n",
      "480000/480000 [==============================] - 15s 32us/step - loss: 0.1497 - acc: 0.9421 - precision: 0.9514 - recall: 0.9317 - val_loss: 0.1502 - val_acc: 0.9423 - val_precision: 0.9469 - val_recall: 0.9374\n",
      "Epoch 5/20\n",
      "480000/480000 [==============================] - 15s 32us/step - loss: 0.1467 - acc: 0.9432 - precision: 0.9522 - recall: 0.9332 - val_loss: 0.1467 - val_acc: 0.9440 - val_precision: 0.9546 - val_recall: 0.9324\n",
      "Epoch 6/20\n",
      "480000/480000 [==============================] - 15s 32us/step - loss: 0.1444 - acc: 0.9440 - precision: 0.9535 - recall: 0.9334 - val_loss: 0.1462 - val_acc: 0.9439 - val_precision: 0.9512 - val_recall: 0.9360\n",
      "Epoch 7/20\n",
      "480000/480000 [==============================] - 15s 31us/step - loss: 0.1423 - acc: 0.9448 - precision: 0.9535 - recall: 0.9352 - val_loss: 0.1444 - val_acc: 0.9442 - val_precision: 0.9541 - val_recall: 0.9334\n",
      "Epoch 8/20\n",
      "480000/480000 [==============================] - 15s 31us/step - loss: 0.1404 - acc: 0.9455 - precision: 0.9543 - recall: 0.9358 - val_loss: 0.1462 - val_acc: 0.9441 - val_precision: 0.9572 - val_recall: 0.9299\n",
      "Epoch 9/20\n",
      "480000/480000 [==============================] - 16s 33us/step - loss: 0.1390 - acc: 0.9458 - precision: 0.9543 - recall: 0.9364 - val_loss: 0.1448 - val_acc: 0.9443 - val_precision: 0.9532 - val_recall: 0.9346\n",
      "Epoch 10/20\n",
      "480000/480000 [==============================] - 15s 31us/step - loss: 0.1376 - acc: 0.9462 - precision: 0.9545 - recall: 0.9370 - val_loss: 0.1457 - val_acc: 0.9447 - val_precision: 0.9521 - val_recall: 0.9367\n",
      "Epoch 11/20\n",
      "480000/480000 [==============================] - 15s 32us/step - loss: 0.1368 - acc: 0.9465 - precision: 0.9543 - recall: 0.9380 - val_loss: 0.1450 - val_acc: 0.9448 - val_precision: 0.9530 - val_recall: 0.9359\n",
      "Epoch 12/20\n",
      "480000/480000 [==============================] - 15s 32us/step - loss: 0.1356 - acc: 0.9470 - precision: 0.9551 - recall: 0.9381 - val_loss: 0.1463 - val_acc: 0.9446 - val_precision: 0.9525 - val_recall: 0.9361\n",
      "Epoch 13/20\n",
      "480000/480000 [==============================] - 16s 33us/step - loss: 0.1353 - acc: 0.9471 - precision: 0.9548 - recall: 0.9385 - val_loss: 0.1464 - val_acc: 0.9452 - val_precision: 0.9527 - val_recall: 0.9370\n",
      "Epoch 14/20\n",
      "480000/480000 [==============================] - 15s 31us/step - loss: 0.1340 - acc: 0.9478 - precision: 0.9555 - recall: 0.9393 - val_loss: 0.1470 - val_acc: 0.9446 - val_precision: 0.9512 - val_recall: 0.9375\n",
      "Epoch 15/20\n",
      "480000/480000 [==============================] - 15s 30us/step - loss: 0.1334 - acc: 0.9476 - precision: 0.9551 - recall: 0.9394 - val_loss: 0.1480 - val_acc: 0.9449 - val_precision: 0.9521 - val_recall: 0.9370\n",
      "Epoch 16/20\n",
      "480000/480000 [==============================] - 15s 31us/step - loss: 0.1330 - acc: 0.9479 - precision: 0.9554 - recall: 0.9396 - val_loss: 0.1451 - val_acc: 0.9451 - val_precision: 0.9530 - val_recall: 0.9366\n",
      "Epoch 17/20\n",
      "480000/480000 [==============================] - 15s 32us/step - loss: 0.1322 - acc: 0.9482 - precision: 0.9558 - recall: 0.9399 - val_loss: 0.1483 - val_acc: 0.9454 - val_precision: 0.9548 - val_recall: 0.9351\n",
      "Epoch 18/20\n",
      "480000/480000 [==============================] - 15s 32us/step - loss: 0.1315 - acc: 0.9484 - precision: 0.9554 - recall: 0.9407 - val_loss: 0.1485 - val_acc: 0.9452 - val_precision: 0.9531 - val_recall: 0.9366\n",
      "Epoch 19/20\n",
      "480000/480000 [==============================] - 15s 32us/step - loss: 0.1310 - acc: 0.9486 - precision: 0.9559 - recall: 0.9406 - val_loss: 0.1473 - val_acc: 0.9447 - val_precision: 0.9519 - val_recall: 0.9370\n",
      "Epoch 20/20\n",
      "480000/480000 [==============================] - 15s 32us/step - loss: 0.1306 - acc: 0.9486 - precision: 0.9560 - recall: 0.9405 - val_loss: 0.1474 - val_acc: 0.9445 - val_precision: 0.9507 - val_recall: 0.9378\n"
     ]
    }
   ],
   "source": [
    "history = model.fit(tfidf_mat,y,batch_size=64,epochs=20,verbose=1,validation_split=0.2)"
   ]
  },
  {
   "cell_type": "code",
   "execution_count": 54,
   "metadata": {},
   "outputs": [
    {
     "data": {
      "text/plain": [
       "[<matplotlib.lines.Line2D at 0x7f8a6f66ca20>]"
      ]
     },
     "execution_count": 54,
     "metadata": {},
     "output_type": "execute_result"
    },
    {
     "data": {
      "image/png": "[encoded data removed]",
      "text/plain": [
       "<Figure size 432x288 with 1 Axes>"
      ]
     },
     "metadata": {
      "needs_background": "light"
     },
     "output_type": "display_data"
    }
   ],
   "source": [
    "plt.subplot(211)\n",
    "plt.title('precision')\n",
    "plt.plot(history.history['precision'], label='train')"
   ]
  },
  {
   "cell_type": "code",
   "execution_count": 55,
   "metadata": {},
   "outputs": [
    {
     "data": {
      "text/plain": [
       "[<matplotlib.lines.Line2D at 0x7f8a71086a58>]"
      ]
     },
     "execution_count": 55,
     "metadata": {},
     "output_type": "execute_result"
    },
    {
     "data": {
      "image/png": "[encoded data removed]",
      "text/plain": [
       "<Figure size 432x288 with 1 Axes>"
      ]
     },
     "metadata": {
      "needs_background": "light"
     },
     "output_type": "display_data"
    }
   ],
   "source": [
    "plt.subplot(211)\n",
    "plt.title('acc')\n",
    "plt.plot(history.history['acc'], label='train')"
   ]
  },
  {
   "cell_type": "code",
   "execution_count": 56,
   "metadata": {},
   "outputs": [],
   "source": [
    "x_test, y_test = get_data('test-bot.txt', 'test-gen.txt')"
   ]
  },
  {
   "cell_type": "code",
   "execution_count": 57,
   "metadata": {},
   "outputs": [
    {
     "name": "stdout",
     "output_type": "stream",
     "text": [
      "<class 'numpy.ndarray'> (60000, 100)\n"
     ]
    }
   ],
   "source": [
    "test_tfidf_mat = vec.transform(x_test).toarray()\n",
    "print(type(test_tfidf_mat),test_tfidf_mat.shape)"
   ]
  },
  {
   "cell_type": "code",
   "execution_count": 58,
   "metadata": {},
   "outputs": [
    {
     "name": "stdout",
     "output_type": "stream",
     "text": [
      "60000/60000 [==============================] - 1s 21us/step\n",
      "score: 0.13939705604414146\n",
      "accuracy: 0.9483333333333334\n",
      "precision: 0.957451874018919\n",
      "recall: 0.9383666666635387\n"
     ]
    }
   ],
   "source": [
    "score, acc, p, r = model.evaluate(test_tfidf_mat, y_test)\n",
    "print('score:', score)\n",
    "print('accuracy:', acc)\n",
    "print('precision:', p)\n",
    "print('recall:', r)"
   ]
  },
  {
   "cell_type": "code",
   "execution_count": 59,
   "metadata": {},
   "outputs": [
    {
     "name": "stdout",
     "output_type": "stream",
     "text": [
      "Saved model to disk\n"
     ]
    }
   ],
   "source": [
    "model.save_weights(\"tf-idf-spec-model.h5\")\n",
    "print(\"Saved model to disk\")"
   ]
  },
  {
   "cell_type": "code",
   "execution_count": null,
   "metadata": {},
   "outputs": [],
   "source": []
  }
 ],
 "metadata": {
  "kernelspec": {
   "display_name": "Python 3",
   "language": "python",
   "name": "python3"
  },
  "language_info": {
   "codemirror_mode": {
    "name": "ipython",
    "version": 3
   },
   "file_extension": ".py",
   "mimetype": "text/x-python",
   "name": "python",
   "nbconvert_exporter": "python",
   "pygments_lexer": "ipython3",
   "version": "3.7.3"
  }
 },
 "nbformat": 4,
 "nbformat_minor": 2
}
