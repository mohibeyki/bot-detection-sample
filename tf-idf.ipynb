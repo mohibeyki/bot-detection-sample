{
 "cells": [
  {
   "cell_type": "code",
   "execution_count": 3,
   "metadata": {},
   "outputs": [],
   "source": [
    "import random\n",
    "import keras\n",
    "import keras_metrics\n",
    "import subprocess\n",
    "import pickle\n",
    "import numpy as np\n",
    "import pandas as pd\n",
    "import matplotlib.pyplot as plt\n",
    "\n",
    "from keras.layers import Dense, Embedding, Dropout, LSTM, Activation, Conv1D, GlobalMaxPooling1D\n",
    "from keras.models import Sequential\n",
    "from keras.preprocessing import sequence\n",
    "from keras.preprocessing.text import Tokenizer\n",
    "from nltk.corpus import stopwords\n",
    "from nltk.stem.porter import PorterStemmer\n",
    "from nltk.tokenize import word_tokenize\n",
    "\n",
    "from sklearn.feature_extraction.text import TfidfVectorizer\n",
    "\n",
    "tokenizer = Tokenizer()"
   ]
  },
  {
   "cell_type": "code",
   "execution_count": 4,
   "metadata": {},
   "outputs": [],
   "source": [
    "def get_data(bot_file, gen_file):\n",
    "    x_data = []\n",
    "    with open(bot_file, 'r', errors='ignore') as file:\n",
    "        for line in file:\n",
    "            x_data.append(line)\n",
    "\n",
    "    size = len(x_data)\n",
    "\n",
    "    with open(gen_file, 'r', errors='ignore') as file:\n",
    "        for line in file:\n",
    "            x_data.append(line)\n",
    "\n",
    "    y_data = [1] * size + [0] * size\n",
    "\n",
    "    train_set = list(zip(x_data, y_data))\n",
    "    random.shuffle(train_set)\n",
    "    x, y = zip(*train_set)\n",
    "    return np.array(x), np.array(y)"
   ]
  },
  {
   "cell_type": "code",
   "execution_count": 12,
   "metadata": {},
   "outputs": [],
   "source": [
    "x, y = get_data('trv-bot.txt', 'trv-gen.txt')"
   ]
  },
  {
   "cell_type": "code",
   "execution_count": 13,
   "metadata": {},
   "outputs": [
    {
     "name": "stdout",
     "output_type": "stream",
     "text": [
      "<class 'numpy.ndarray'> (640000, 100)\n"
     ]
    }
   ],
   "source": [
    "vec = TfidfVectorizer(max_features=100,\n",
    "                      tokenizer=word_tokenize,\n",
    "                      strip_accents='unicode',\n",
    "                      lowercase =True,\n",
    "                      analyzer='word',\n",
    "                      token_pattern=r'\\w+',\n",
    "                      use_idf=True,\n",
    "                      smooth_idf=True,\n",
    "                      sublinear_tf=False, \n",
    "                      stop_words = 'english'\n",
    "                     )\n",
    "tfidf_mat = vec.fit_transform(x).toarray()\n",
    "print(type(tfidf_mat),tfidf_mat.shape)"
   ]
  },
  {
   "cell_type": "code",
   "execution_count": 14,
   "metadata": {},
   "outputs": [
    {
     "name": "stdout",
     "output_type": "stream",
     "text": [
      "_________________________________________________________________\n",
      "Layer (type)                 Output Shape              Param #   \n",
      "=================================================================\n",
      "dense_9 (Dense)              (None, 512)               51712     \n",
      "_________________________________________________________________\n",
      "dropout_7 (Dropout)          (None, 512)               0         \n",
      "_________________________________________________________________\n",
      "dense_10 (Dense)             (None, 256)               131328    \n",
      "_________________________________________________________________\n",
      "dropout_8 (Dropout)          (None, 256)               0         \n",
      "_________________________________________________________________\n",
      "dense_11 (Dense)             (None, 64)                16448     \n",
      "_________________________________________________________________\n",
      "dropout_9 (Dropout)          (None, 64)                0         \n",
      "_________________________________________________________________\n",
      "dense_12 (Dense)             (None, 1)                 65        \n",
      "_________________________________________________________________\n",
      "activation_3 (Activation)    (None, 1)                 0         \n",
      "=================================================================\n",
      "Total params: 199,553\n",
      "Trainable params: 199,553\n",
      "Non-trainable params: 0\n",
      "_________________________________________________________________\n"
     ]
    }
   ],
   "source": [
    "model = Sequential()\n",
    "model.add(Dense(512,input_shape=(100,), activation='relu'))\n",
    "model.add(Dropout(0.2))\n",
    "model.add(Dense(256, activation='relu'))\n",
    "model.add(Dropout(0.2))\n",
    "model.add(Dense(64, activation='relu'))\n",
    "model.add(Dropout(0.2))\n",
    "model.add(Dense(1))\n",
    "model.add(Activation('sigmoid'))\n",
    "model.summary()\n",
    "model.compile(\n",
    "    loss='binary_crossentropy',\n",
    "    optimizer='adam',\n",
    "    metrics=['accuracy',keras_metrics.precision(), keras_metrics.recall()]\n",
    ")"
   ]
  },
  {
   "cell_type": "code",
   "execution_count": 15,
   "metadata": {},
   "outputs": [
    {
     "name": "stdout",
     "output_type": "stream",
     "text": [
      "Train on 480000 samples, validate on 160000 samples\n",
      "Epoch 1/10\n",
      "480000/480000 [==============================] - 30s 62us/step - loss: 0.1881 - acc: 0.9251 - precision: 0.9360 - recall: 0.9125 - val_loss: 0.1622 - val_acc: 0.9362 - val_precision: 0.9550 - val_recall: 0.9156\n",
      "Epoch 2/10\n",
      "480000/480000 [==============================] - 29s 61us/step - loss: 0.1599 - acc: 0.9377 - precision: 0.9485 - recall: 0.9256 - val_loss: 0.1539 - val_acc: 0.9379 - val_precision: 0.9516 - val_recall: 0.9227\n",
      "Epoch 3/10\n",
      "480000/480000 [==============================] - 30s 62us/step - loss: 0.1523 - acc: 0.9407 - precision: 0.9518 - recall: 0.9285 - val_loss: 0.1493 - val_acc: 0.9425 - val_precision: 0.9525 - val_recall: 0.9314\n",
      "Epoch 4/10\n",
      "480000/480000 [==============================] - 30s 62us/step - loss: 0.1475 - acc: 0.9427 - precision: 0.9533 - recall: 0.9309 - val_loss: 0.1473 - val_acc: 0.9428 - val_precision: 0.9554 - val_recall: 0.9291\n",
      "Epoch 5/10\n",
      "480000/480000 [==============================] - 30s 62us/step - loss: 0.1441 - acc: 0.9440 - precision: 0.9545 - recall: 0.9324 - val_loss: 0.1446 - val_acc: 0.9441 - val_precision: 0.9538 - val_recall: 0.9333\n",
      "Epoch 6/10\n",
      "480000/480000 [==============================] - 30s 63us/step - loss: 0.1416 - acc: 0.9448 - precision: 0.9551 - recall: 0.9334 - val_loss: 0.1451 - val_acc: 0.9440 - val_precision: 0.9509 - val_recall: 0.9363\n",
      "Epoch 7/10\n",
      "480000/480000 [==============================] - 30s 63us/step - loss: 0.1395 - acc: 0.9454 - precision: 0.9551 - recall: 0.9349 - val_loss: 0.1435 - val_acc: 0.9450 - val_precision: 0.9548 - val_recall: 0.9343\n",
      "Epoch 8/10\n",
      "480000/480000 [==============================] - 31s 64us/step - loss: 0.1381 - acc: 0.9461 - precision: 0.9560 - recall: 0.9354 - val_loss: 0.1424 - val_acc: 0.9453 - val_precision: 0.9547 - val_recall: 0.9350\n",
      "Epoch 9/10\n",
      "480000/480000 [==============================] - 31s 64us/step - loss: 0.1369 - acc: 0.9466 - precision: 0.9560 - recall: 0.9362 - val_loss: 0.1433 - val_acc: 0.9456 - val_precision: 0.9512 - val_recall: 0.9393\n",
      "Epoch 10/10\n",
      "480000/480000 [==============================] - 31s 65us/step - loss: 0.1353 - acc: 0.9469 - precision: 0.9561 - recall: 0.9369 - val_loss: 0.1431 - val_acc: 0.9457 - val_precision: 0.9553 - val_recall: 0.9350\n"
     ]
    }
   ],
   "source": [
    "history = model.fit(tfidf_mat,y,batch_size=64,epochs=10,verbose=1,validation_split=0.25)"
   ]
  },
  {
   "cell_type": "code",
   "execution_count": 16,
   "metadata": {},
   "outputs": [
    {
     "data": {
      "text/plain": [
       "[<matplotlib.lines.Line2D at 0x1a33780b00>]"
      ]
     },
     "execution_count": 16,
     "metadata": {},
     "output_type": "execute_result"
    },
    {
     "data": {
      "image/png": "[encoded data removed]",
      "text/plain": [
       "<Figure size 432x288 with 1 Axes>"
      ]
     },
     "metadata": {
      "needs_background": "light"
     },
     "output_type": "display_data"
    }
   ],
   "source": [
    "plt.subplot(211)\n",
    "plt.title('precision')\n",
    "plt.plot(history.history['precision'], label='train')"
   ]
  },
  {
   "cell_type": "code",
   "execution_count": 17,
   "metadata": {},
   "outputs": [
    {
     "data": {
      "text/plain": [
       "[<matplotlib.lines.Line2D at 0x1a347a42b0>]"
      ]
     },
     "execution_count": 17,
     "metadata": {},
     "output_type": "execute_result"
    },
    {
     "data": {
      "image/png": "[encoded data removed]",
      "text/plain": [
       "<Figure size 432x288 with 1 Axes>"
      ]
     },
     "metadata": {
      "needs_background": "light"
     },
     "output_type": "display_data"
    }
   ],
   "source": [
    "plt.subplot(211)\n",
    "plt.title('acc')\n",
    "plt.plot(history.history['acc'], label='train')"
   ]
  },
  {
   "cell_type": "code",
   "execution_count": 18,
   "metadata": {},
   "outputs": [],
   "source": [
    "x_test, y_test = get_data('test-bot.txt', 'test-gen.txt')"
   ]
  },
  {
   "cell_type": "code",
   "execution_count": 19,
   "metadata": {},
   "outputs": [
    {
     "name": "stdout",
     "output_type": "stream",
     "text": [
      "<class 'numpy.ndarray'> (160000, 100)\n"
     ]
    }
   ],
   "source": [
    "test_tfidf_mat = vec.transform(x_test).toarray()\n",
    "print(type(test_tfidf_mat),test_tfidf_mat.shape)"
   ]
  },
  {
   "cell_type": "code",
   "execution_count": 58,
   "metadata": {},
   "outputs": [
    {
     "name": "stdout",
     "output_type": "stream",
     "text": [
      "60000/60000 [==============================] - 1s 21us/step\n",
      "score: 0.13939705604414146\n",
      "accuracy: 0.9483333333333334\n",
      "precision: 0.957451874018919\n",
      "recall: 0.9383666666635387\n"
     ]
    }
   ],
   "source": [
    "score, acc, p, r = model.evaluate(test_tfidf_mat, y_test)\n",
    "print('score:', score)\n",
    "print('accuracy:', acc)\n",
    "print('precision:', p)\n",
    "print('recall:', r)"
   ]
  },
  {
   "cell_type": "code",
   "execution_count": 59,
   "metadata": {},
   "outputs": [
    {
     "name": "stdout",
     "output_type": "stream",
     "text": [
      "Saved model to disk\n"
     ]
    }
   ],
   "source": [
    "model.save_weights(\"tf-idf-spec-model.h5\")\n",
    "print(\"Saved model to disk\")"
   ]
  },
  {
   "cell_type": "code",
   "execution_count": null,
   "metadata": {},
   "outputs": [],
   "source": []
  }
 ],
 "metadata": {
  "kernelspec": {
   "display_name": "Python 3",
   "language": "python",
   "name": "python3"
  },
  "language_info": {
   "codemirror_mode": {
    "name": "ipython",
    "version": 3
   },
   "file_extension": ".py",
   "mimetype": "text/x-python",
   "name": "python",
   "nbconvert_exporter": "python",
   "pygments_lexer": "ipython3",
   "version": "3.7.3"
  }
 },
 "nbformat": 4,
 "nbformat_minor": 2
}
