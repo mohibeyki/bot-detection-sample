{
 "cells": [
  {
   "cell_type": "code",
   "execution_count": 1,
   "metadata": {},
   "outputs": [
    {
     "name": "stderr",
     "output_type": "stream",
     "text": [
      "Using TensorFlow backend.\n"
     ]
    }
   ],
   "source": [
    "import random\n",
    "import keras\n",
    "import subprocess\n",
    "import pickle\n",
    "import keras_metrics as km\n",
    "import numpy as np\n",
    "import pandas as pd\n",
    "import matplotlib.pyplot as plt\n",
    "\n",
    "from keras.layers import Dense, Embedding, Dropout, LSTM, Activation, Conv1D, GlobalMaxPooling1D\n",
    "from keras.models import Sequential\n",
    "from keras.preprocessing import sequence\n",
    "from keras.preprocessing.text import Tokenizer\n",
    "from keras.callbacks import Callback\n",
    "\n",
    "from nltk.corpus import stopwords\n",
    "from nltk.stem.porter import PorterStemmer\n",
    "from nltk.tokenize import word_tokenize\n",
    "\n",
    "from sklearn.metrics import roc_curve, roc_auc_score, auc\n",
    "from sklearn.feature_extraction.text import TfidfVectorizer\n",
    "\n",
    "tokenizer = Tokenizer()"
   ]
  },
  {
   "cell_type": "code",
   "execution_count": 2,
   "metadata": {},
   "outputs": [],
   "source": [
    "def get_data(bot_file, gen_file):\n",
    "    x_data = []\n",
    "    with open(bot_file, 'r', errors='ignore') as file:\n",
    "        for line in file:\n",
    "            x_data.append(line)\n",
    "\n",
    "    size = len(x_data)\n",
    "\n",
    "    with open(gen_file, 'r', errors='ignore') as file:\n",
    "        for line in file:\n",
    "            x_data.append(line)\n",
    "\n",
    "    y_data = [1] * size + [0] * size\n",
    "\n",
    "    train_set = list(zip(x_data, y_data))\n",
    "    random.shuffle(train_set)\n",
    "    x, y = zip(*train_set)\n",
    "    return np.array(x), np.array(y)"
   ]
  },
  {
   "cell_type": "code",
   "execution_count": 3,
   "metadata": {},
   "outputs": [],
   "source": [
    "x, y = get_data('trv-bot.txt', 'trv-gen.txt')"
   ]
  },
  {
   "cell_type": "code",
   "execution_count": 4,
   "metadata": {},
   "outputs": [],
   "source": [
    "x_test, y_test = get_data('test-bot.txt', 'test-gen.txt')"
   ]
  },
  {
   "cell_type": "code",
   "execution_count": 5,
   "metadata": {},
   "outputs": [
    {
     "name": "stdout",
     "output_type": "stream",
     "text": [
      "<class 'numpy.ndarray'> (639996, 100)\n"
     ]
    }
   ],
   "source": [
    "vec = TfidfVectorizer(max_features=100,\n",
    "                      tokenizer=word_tokenize,\n",
    "                      strip_accents='unicode',\n",
    "                      lowercase =True,\n",
    "                      analyzer='word',\n",
    "                      token_pattern=r'\\w+',\n",
    "                      use_idf=True,\n",
    "                      smooth_idf=True,\n",
    "                      sublinear_tf=False, \n",
    "                      stop_words = 'english'\n",
    "                     )\n",
    "tfidf_mat = vec.fit_transform(x).toarray()\n",
    "print(type(tfidf_mat),tfidf_mat.shape)"
   ]
  },
  {
   "cell_type": "code",
   "execution_count": 6,
   "metadata": {},
   "outputs": [
    {
     "name": "stdout",
     "output_type": "stream",
     "text": [
      "<class 'numpy.ndarray'> (159996, 100)\n"
     ]
    }
   ],
   "source": [
    "test_tfidf_mat = vec.transform(x_test).toarray()\n",
    "print(type(test_tfidf_mat),test_tfidf_mat.shape)"
   ]
  },
  {
   "cell_type": "code",
   "execution_count": 17,
   "metadata": {},
   "outputs": [
    {
     "name": "stdout",
     "output_type": "stream",
     "text": [
      "_________________________________________________________________\n",
      "Layer (type)                 Output Shape              Param #   \n",
      "=================================================================\n",
      "dense_8 (Dense)              (None, 512)               51712     \n",
      "_________________________________________________________________\n",
      "dropout_6 (Dropout)          (None, 512)               0         \n",
      "_________________________________________________________________\n",
      "dense_9 (Dense)              (None, 512)               262656    \n",
      "_________________________________________________________________\n",
      "dropout_7 (Dropout)          (None, 512)               0         \n",
      "_________________________________________________________________\n",
      "dense_10 (Dense)             (None, 512)               262656    \n",
      "_________________________________________________________________\n",
      "dropout_8 (Dropout)          (None, 512)               0         \n",
      "_________________________________________________________________\n",
      "dense_11 (Dense)             (None, 512)               262656    \n",
      "_________________________________________________________________\n",
      "dropout_9 (Dropout)          (None, 512)               0         \n",
      "_________________________________________________________________\n",
      "dense_12 (Dense)             (None, 256)               131328    \n",
      "_________________________________________________________________\n",
      "dropout_10 (Dropout)         (None, 256)               0         \n",
      "_________________________________________________________________\n",
      "dense_13 (Dense)             (None, 64)                16448     \n",
      "_________________________________________________________________\n",
      "dense_14 (Dense)             (None, 1)                 65        \n",
      "_________________________________________________________________\n",
      "activation_2 (Activation)    (None, 1)                 0         \n",
      "=================================================================\n",
      "Total params: 987,521\n",
      "Trainable params: 987,521\n",
      "Non-trainable params: 0\n",
      "_________________________________________________________________\n"
     ]
    }
   ],
   "source": [
    "model = Sequential()\n",
    "model.add(Dense(512,input_shape=(100,), activation='relu'))\n",
    "model.add(Dropout(0.2))\n",
    "model.add(Dense(512, activation='relu'))\n",
    "model.add(Dropout(0.2))\n",
    "model.add(Dense(512, activation='relu'))\n",
    "model.add(Dropout(0.2))\n",
    "model.add(Dense(512, activation='relu'))\n",
    "model.add(Dropout(0.2))\n",
    "model.add(Dense(256, activation='relu'))\n",
    "model.add(Dropout(0.2))\n",
    "model.add(Dense(64, activation='relu'))\n",
    "model.add(Dense(1))\n",
    "model.add(Activation('sigmoid'))\n",
    "model.summary()\n",
    "model.compile(\n",
    "    loss='binary_crossentropy',\n",
    "    optimizer='adam',\n",
    "    metrics=['accuracy',km.binary_precision(), km.binary_recall()]\n",
    ")"
   ]
  },
  {
   "cell_type": "code",
   "execution_count": 18,
   "metadata": {},
   "outputs": [
    {
     "name": "stdout",
     "output_type": "stream",
     "text": [
      "Train on 479997 samples, validate on 159999 samples\n",
      "Epoch 1/20\n",
      "479997/479997 [==============================] - 10s 20us/step - loss: 0.3235 - acc: 0.8514 - precision: 0.8933 - recall: 0.7982 - val_loss: 0.3008 - val_acc: 0.8612 - val_precision: 0.9055 - val_recall: 0.8066\n",
      "Epoch 2/20\n",
      "479997/479997 [==============================] - 9s 18us/step - loss: 0.3021 - acc: 0.8623 - precision: 0.9038 - recall: 0.8110 - val_loss: 0.2981 - val_acc: 0.8639 - val_precision: 0.9128 - val_recall: 0.8047\n",
      "Epoch 3/20\n",
      "479997/479997 [==============================] - 9s 18us/step - loss: 0.2954 - acc: 0.8659 - precision: 0.9107 - recall: 0.8113 - val_loss: 0.2917 - val_acc: 0.8662 - val_precision: 0.9063 - val_recall: 0.8169\n",
      "Epoch 4/20\n",
      "479997/479997 [==============================] - 9s 18us/step - loss: 0.2909 - acc: 0.8681 - precision: 0.9133 - recall: 0.8134 - val_loss: 0.2895 - val_acc: 0.8685 - val_precision: 0.9096 - val_recall: 0.8184\n",
      "Epoch 5/20\n",
      "479997/479997 [==============================] - 9s 18us/step - loss: 0.2874 - acc: 0.8695 - precision: 0.9152 - recall: 0.8145 - val_loss: 0.2873 - val_acc: 0.8696 - val_precision: 0.9120 - val_recall: 0.8181\n",
      "Epoch 6/20\n",
      "479997/479997 [==============================] - 9s 18us/step - loss: 0.2846 - acc: 0.8707 - precision: 0.9168 - recall: 0.8154 - val_loss: 0.2894 - val_acc: 0.8696 - val_precision: 0.9099 - val_recall: 0.8205\n",
      "Epoch 7/20\n",
      "479997/479997 [==============================] - 9s 18us/step - loss: 0.2824 - acc: 0.8715 - precision: 0.9168 - recall: 0.8171 - val_loss: 0.2859 - val_acc: 0.8701 - val_precision: 0.9141 - val_recall: 0.8170\n",
      "Epoch 8/20\n",
      "479997/479997 [==============================] - 9s 18us/step - loss: 0.2798 - acc: 0.8726 - precision: 0.9190 - recall: 0.8171 - val_loss: 0.2853 - val_acc: 0.8701 - val_precision: 0.9184 - val_recall: 0.8124\n",
      "Epoch 9/20\n",
      "479997/479997 [==============================] - 9s 19us/step - loss: 0.2785 - acc: 0.8733 - precision: 0.9196 - recall: 0.8182 - val_loss: 0.2848 - val_acc: 0.8706 - val_precision: 0.9178 - val_recall: 0.8143\n",
      "Epoch 10/20\n",
      "479997/479997 [==============================] - 9s 18us/step - loss: 0.2772 - acc: 0.8737 - precision: 0.9191 - recall: 0.8196 - val_loss: 0.2846 - val_acc: 0.8702 - val_precision: 0.9087 - val_recall: 0.8232\n",
      "Epoch 11/20\n",
      "479997/479997 [==============================] - 9s 18us/step - loss: 0.2760 - acc: 0.8743 - precision: 0.9212 - recall: 0.8187 - val_loss: 0.2859 - val_acc: 0.8709 - val_precision: 0.9102 - val_recall: 0.8231\n",
      "Epoch 12/20\n",
      "479997/479997 [==============================] - 9s 18us/step - loss: 0.2744 - acc: 0.8749 - precision: 0.9203 - recall: 0.8208 - val_loss: 0.2849 - val_acc: 0.8711 - val_precision: 0.9203 - val_recall: 0.8126\n",
      "Epoch 13/20\n",
      "479997/479997 [==============================] - 9s 19us/step - loss: 0.2734 - acc: 0.8753 - precision: 0.9215 - recall: 0.8206 - val_loss: 0.2846 - val_acc: 0.8709 - val_precision: 0.9263 - val_recall: 0.8061\n",
      "Epoch 14/20\n",
      "479997/479997 [==============================] - 9s 19us/step - loss: 0.2722 - acc: 0.8756 - precision: 0.9223 - recall: 0.8204 - val_loss: 0.2862 - val_acc: 0.8709 - val_precision: 0.9123 - val_recall: 0.8207\n",
      "Epoch 15/20\n",
      "479997/479997 [==============================] - 9s 18us/step - loss: 0.2713 - acc: 0.8764 - precision: 0.9205 - recall: 0.8240 - val_loss: 0.2869 - val_acc: 0.8703 - val_precision: 0.9173 - val_recall: 0.8141\n",
      "Epoch 16/20\n",
      "479997/479997 [==============================] - 9s 19us/step - loss: 0.2702 - acc: 0.8768 - precision: 0.9231 - recall: 0.8221 - val_loss: 0.2843 - val_acc: 0.8707 - val_precision: 0.9216 - val_recall: 0.8105\n",
      "Epoch 17/20\n",
      "479997/479997 [==============================] - 9s 19us/step - loss: 0.2693 - acc: 0.8770 - precision: 0.9222 - recall: 0.8235 - val_loss: 0.2863 - val_acc: 0.8713 - val_precision: 0.9145 - val_recall: 0.8192\n",
      "Epoch 18/20\n",
      "479997/479997 [==============================] - 9s 19us/step - loss: 0.2686 - acc: 0.8773 - precision: 0.9212 - recall: 0.8253 - val_loss: 0.2868 - val_acc: 0.8714 - val_precision: 0.9103 - val_recall: 0.8241\n",
      "Epoch 19/20\n",
      "479997/479997 [==============================] - 9s 19us/step - loss: 0.2675 - acc: 0.8777 - precision: 0.9222 - recall: 0.8250 - val_loss: 0.2869 - val_acc: 0.8707 - val_precision: 0.9054 - val_recall: 0.8280\n",
      "Epoch 20/20\n",
      "479997/479997 [==============================] - 9s 19us/step - loss: 0.2666 - acc: 0.8780 - precision: 0.9222 - recall: 0.8257 - val_loss: 0.2860 - val_acc: 0.8712 - val_precision: 0.9230 - val_recall: 0.8100\n"
     ]
    }
   ],
   "source": [
    "history = model.fit(\n",
    "    tfidf_mat,\n",
    "    y,\n",
    "    batch_size=128,\n",
    "    epochs=20,\n",
    "    verbose=1,\n",
    "    validation_split=0.25\n",
    ")"
   ]
  },
  {
   "cell_type": "code",
   "execution_count": 19,
   "metadata": {},
   "outputs": [
    {
     "data": {
      "image/png": "[encoded data removed]",
      "text/plain": [
       "<Figure size 432x288 with 1 Axes>"
      ]
     },
     "metadata": {
      "needs_background": "light"
     },
     "output_type": "display_data"
    }
   ],
   "source": [
    "plt.xlim(left=-1, right=21)\n",
    "plt.title('precision')\n",
    "plt.plot(history.history['precision'], label='train')\n",
    "plt.savefig('tfidf-c/precision.svg')"
   ]
  },
  {
   "cell_type": "code",
   "execution_count": 20,
   "metadata": {},
   "outputs": [
    {
     "data": {
      "image/png": "[encoded data removed]",
      "text/plain": [
       "<Figure size 432x288 with 1 Axes>"
      ]
     },
     "metadata": {
      "needs_background": "light"
     },
     "output_type": "display_data"
    }
   ],
   "source": [
    "plt.xlim(left=-1, right=21)\n",
    "plt.title('acc')\n",
    "plt.plot(history.history['acc'], label='train')\n",
    "plt.savefig('tfidf-c/accuracy.svg')"
   ]
  },
  {
   "cell_type": "code",
   "execution_count": 21,
   "metadata": {},
   "outputs": [
    {
     "data": {
      "image/png": "[encoded data removed]",
      "text/plain": [
       "<Figure size 432x288 with 1 Axes>"
      ]
     },
     "metadata": {
      "needs_background": "light"
     },
     "output_type": "display_data"
    }
   ],
   "source": [
    "plt.xlim(left=-1, right=21)\n",
    "plt.title('recall')\n",
    "plt.plot(history.history['recall'], label='train')\n",
    "plt.savefig('tfidf-c/recall.svg')"
   ]
  },
  {
   "cell_type": "code",
   "execution_count": 22,
   "metadata": {},
   "outputs": [],
   "source": [
    "y_pred = model.predict(test_tfidf_mat).ravel()\n",
    "fpr, tpr, threshold = roc_curve(y_test, y_pred)"
   ]
  },
  {
   "cell_type": "code",
   "execution_count": 23,
   "metadata": {},
   "outputs": [
    {
     "data": {
      "image/png": "[encoded data removed]",
      "text/plain": [
       "<Figure size 432x288 with 1 Axes>"
      ]
     },
     "metadata": {
      "needs_background": "light"
     },
     "output_type": "display_data"
    }
   ],
   "source": [
    "plt.figure(1)\n",
    "plt.plot([0, 1], [0, 1], 'k--')\n",
    "plt.plot(fpr, tpr, label='(area = {:.3f})'.format(auc(fpr, tpr)))\n",
    "plt.xlabel('False positive rate')\n",
    "plt.ylabel('True positive rate')\n",
    "plt.title('ROC curve')\n",
    "plt.legend(loc='best')\n",
    "plt.savefig('tfidf-c/roc.svg')"
   ]
  },
  {
   "cell_type": "code",
   "execution_count": 24,
   "metadata": {},
   "outputs": [
    {
     "name": "stdout",
     "output_type": "stream",
     "text": [
      "159996/159996 [==============================] - 3s 20us/step\n",
      "score: 0.2864272940241995\n",
      "accuracy: 0.8718905472621914\n",
      "precision: 0.9247583558188421\n",
      "recall: 0.809657741442524\n"
     ]
    }
   ],
   "source": [
    "score, acc, p, r = model.evaluate(test_tfidf_mat, y_test)\n",
    "print('score:', score)\n",
    "print('accuracy:', acc)\n",
    "print('precision:', p)\n",
    "print('recall:', r)"
   ]
  },
  {
   "cell_type": "code",
   "execution_count": 25,
   "metadata": {},
   "outputs": [
    {
     "name": "stdout",
     "output_type": "stream",
     "text": [
      "Saved model to disk\n"
     ]
    }
   ],
   "source": [
    "model.save_weights(\"tfidf-c/model.h5\")\n",
    "print(\"Saved model to disk\")"
   ]
  },
  {
   "cell_type": "code",
   "execution_count": null,
   "metadata": {},
   "outputs": [],
   "source": []
  }
 ],
 "metadata": {
  "kernelspec": {
   "display_name": "Python 3",
   "language": "python",
   "name": "python3"
  },
  "language_info": {
   "codemirror_mode": {
    "name": "ipython",
    "version": 3
   },
   "file_extension": ".py",
   "mimetype": "text/x-python",
   "name": "python",
   "nbconvert_exporter": "python",
   "pygments_lexer": "ipython3",
   "version": "3.7.3"
  }
 },
 "nbformat": 4,
 "nbformat_minor": 2
}
