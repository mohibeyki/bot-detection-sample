{
 "cells": [
  {
   "cell_type": "code",
   "execution_count": 61,
   "metadata": {},
   "outputs": [],
   "source": [
    "import subprocess"
   ]
  },
  {
   "cell_type": "code",
   "execution_count": 91,
   "metadata": {},
   "outputs": [],
   "source": [
    "total_size = 600000\n",
    "train_samples = int(total_size / 5 * 4)\n",
    "validation_samples = int(total_size / 10)\n",
    "test_samples = int(total_size / 10)"
   ]
  },
  {
   "cell_type": "code",
   "execution_count": null,
   "metadata": {},
   "outputs": [],
   "source": [
    "def parse_file(filename, train_file, validation_file, test_file, ratio=1):\n",
    "    with open(filename) as bot:\n",
    "        for _ in range(int(train_samples / 2 / ratio)):\n",
    "            train_file.write(bot.readline())\n",
    "        for _ in range(int(validation_samples / 2 / ratio)):\n",
    "            validation_file.write(bot.readline())\n",
    "        for _ in range(int(test_samples / 2 / ratio)):\n",
    "            test_file.write(bot.readline())"
   ]
  },
  {
   "cell_type": "code",
   "execution_count": null,
   "metadata": {},
   "outputs": [],
   "source": [
    "def generate_dataset(total_size, train_samples, validation_samples, test_samples):\n",
    "    print('train      samples:', train_samples)\n",
    "    print('validation samples:', validation_samples)\n",
    "    print('test       samples:', test_samples)\n",
    "\n",
    "    train_bot      = open('train-bot-temp.txt'     , 'w')\n",
    "    train_gen      = open('train-gen-temp.txt'     , 'w')\n",
    "    test_bot       = open('test-bot-temp.txt'      , 'w')\n",
    "    test_gen       = open('test-gen-temp.txt'      , 'w')\n",
    "    validation_bot = open('validation-bot-temp.txt', 'w')\n",
    "    validation_gen = open('validation-gen-temp.txt', 'w')"
   ]
  },
  {
   "cell_type": "code",
   "execution_count": 94,
   "metadata": {},
   "outputs": [],
   "source": []
  },
  {
   "cell_type": "code",
   "execution_count": 95,
   "metadata": {},
   "outputs": [],
   "source": [
    "parse_file('bot-1-all.txt', train_bot, validation_bot, test_bot, ratio=3)\n",
    "parse_file('bot-2-all.txt', train_bot, validation_bot, test_bot, ratio=3)\n",
    "parse_file('bot-3-all.txt', train_bot, validation_bot, test_bot, ratio=3)\n",
    "parse_file('gen-all.txt', train_gen, validation_gen, test_gen)"
   ]
  },
  {
   "cell_type": "code",
   "execution_count": 96,
   "metadata": {},
   "outputs": [],
   "source": [
    "train_bot.close()\n",
    "validation_bot.close()\n",
    "test_bot.close()\n",
    "train_gen.close()\n",
    "validation_gen.close()\n",
    "test_gen.close()"
   ]
  },
  {
   "cell_type": "code",
   "execution_count": 103,
   "metadata": {},
   "outputs": [],
   "source": [
    "def shuffle_output(filename):\n",
    "    cmd = subprocess.run(\n",
    "        [\n",
    "            'shuf ' + filename + '-temp.txt' + ' > ' + filename + '.txt' +\n",
    "            ' && rm ' + filename + '-temp.txt' + \n",
    "            ' && wc -l ' + filename + '.txt'\n",
    "        ],\n",
    "        shell=True,\n",
    "        stdout=subprocess.PIPE)\n",
    "    print(cmd.stdout)"
   ]
  },
  {
   "cell_type": "code",
   "execution_count": 104,
   "metadata": {},
   "outputs": [
    {
     "name": "stdout",
     "output_type": "stream",
     "text": [
      "b''\n",
      "b''\n",
      "b''\n",
      "b''\n",
      "b''\n",
      "b''\n"
     ]
    }
   ],
   "source": [
    "shuffle_output('train-bot')\n",
    "shuffle_output('train-gen')\n",
    "shuffle_output('validation-bot')\n",
    "shuffle_output('validation-gen')\n",
    "shuffle_output('test-bot')\n",
    "shuffle_output('test-gen')"
   ]
  },
  {
   "cell_type": "code",
   "execution_count": null,
   "metadata": {},
   "outputs": [],
   "source": []
  }
 ],
 "metadata": {
  "kernelspec": {
   "display_name": "Python 3",
   "language": "python",
   "name": "python3"
  },
  "language_info": {
   "codemirror_mode": {
    "name": "ipython",
    "version": 3
   },
   "file_extension": ".py",
   "mimetype": "text/x-python",
   "name": "python",
   "nbconvert_exporter": "python",
   "pygments_lexer": "ipython3",
   "version": "3.7.3"
  }
 },
 "nbformat": 4,
 "nbformat_minor": 2
}
