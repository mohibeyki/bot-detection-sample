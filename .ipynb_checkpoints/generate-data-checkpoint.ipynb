{
 "cells": [
  {
   "cell_type": "code",
   "execution_count": 1,
   "metadata": {},
   "outputs": [],
   "source": [
    "import subprocess"
   ]
  },
  {
   "cell_type": "code",
   "execution_count": 4,
   "metadata": {},
   "outputs": [],
   "source": [
    "def parse_file(filename, train_file, validation_file, test_file, train_samples, tv_samples, ratio=1):\n",
    "    with open(filename) as bot:\n",
    "        for _ in range(int(train_samples / 2 / ratio)):\n",
    "            train_file.write(bot.readline())\n",
    "\n",
    "        # Test + Validation Samples\n",
    "        for _ in range(int(tv_samples / 2 / ratio)):\n",
    "            validation_file.write(bot.readline())\n",
    "            test_file.write(bot.readline())"
   ]
  },
  {
   "cell_type": "code",
   "execution_count": 5,
   "metadata": {},
   "outputs": [],
   "source": [
    "def shuffle_output(filename):\n",
    "    cmd = subprocess.run(\n",
    "        [\n",
    "            'shuf ' + filename + '-temp.txt' + ' > ' + filename + '.txt' +\n",
    "            ' && rm ' + filename + '-temp.txt' + \n",
    "            ' && wc -l ' + filename + '.txt'\n",
    "        ],\n",
    "        shell=True,\n",
    "        stdout=subprocess.PIPE)\n",
    "    print(cmd.stdout.decode(\"utf-8\").strip())"
   ]
  },
  {
   "cell_type": "code",
   "execution_count": 6,
   "metadata": {},
   "outputs": [],
   "source": [
    "def generate_dataset(total_size, train_samples, tv_samples, dataset=3, combined=False):\n",
    "    print('train      samples:', train_samples)\n",
    "    print('validation samples:', tv_samples)\n",
    "    print('test       samples:', tv_samples)\n",
    "\n",
    "    train_bot      = open('train-bot-temp.txt'     , 'w')\n",
    "    train_gen      = open('train-gen-temp.txt'     , 'w')\n",
    "    test_bot       = open('test-bot-temp.txt'      , 'w')\n",
    "    test_gen       = open('test-gen-temp.txt'      , 'w')\n",
    "    validation_bot = open('validation-bot-temp.txt', 'w')\n",
    "    validation_gen = open('validation-gen-temp.txt', 'w')\n",
    "\n",
    "    ratio = 3 if combined else 1\n",
    "\n",
    "    if combined or dataset == 1:\n",
    "        parse_file('input-bot-1.txt',\n",
    "                   train_file=train_bot,\n",
    "                   validation_file=validation_bot,\n",
    "                   test_file=test_bot,\n",
    "                   train_samples=train_samples,\n",
    "                   tv_samples=tv_samples,\n",
    "                   ratio=ratio)\n",
    "\n",
    "    if combined or dataset == 2:\n",
    "        parse_file('input-bot-2.txt',\n",
    "                   train_bot,\n",
    "                   validation_bot,\n",
    "                   test_bot,\n",
    "                   train_samples,\n",
    "                   tv_samples=tv_samples,\n",
    "                   ratio=ratio)\n",
    "\n",
    "    if combined or dataset == 3:\n",
    "        parse_file('input-bot-3.txt',\n",
    "                   train_bot,\n",
    "                   validation_bot,\n",
    "                   test_bot,\n",
    "                   train_samples,\n",
    "                   tv_samples=tv_samples,\n",
    "                   ratio=ratio)\n",
    "\n",
    "    parse_file('input-gen.txt',\n",
    "               train_file=train_gen,\n",
    "               validation_file=validation_gen,\n",
    "               test_file=test_gen,\n",
    "               train_samples=train_samples,\n",
    "               tv_samples=tv_samples)\n",
    "\n",
    "    train_bot.close()\n",
    "    validation_bot.close()\n",
    "    test_bot.close()\n",
    "    train_gen.close()\n",
    "    validation_gen.close()\n",
    "    test_gen.close()\n",
    "\n",
    "    shuffle_output('train-bot')\n",
    "    shuffle_output('train-gen')\n",
    "    shuffle_output('validation-bot')\n",
    "    shuffle_output('validation-gen')\n",
    "    shuffle_output('test-bot')\n",
    "    shuffle_output('test-gen')\n",
    "    cmd = subprocess.run(\n",
    "        ['cat train-bot.txt validation-bot.txt > trv-bot.txt'],\n",
    "        shell=True,\n",
    "        stdout=subprocess.PIPE)\n",
    "    if cmd.returncode != 0:\n",
    "        print(cmd.stdout.decode(\"utf-8\").strip())\n",
    "    cmd = subprocess.run(\n",
    "        ['cat train-gen.txt validation-gen.txt > trv-gen.txt'],\n",
    "        shell=True,\n",
    "        stdout=subprocess.PIPE)\n",
    "    if cmd.returncode != 0:\n",
    "        print(cmd.stdout.decode(\"utf-8\").strip())"
   ]
  },
  {
   "cell_type": "code",
   "execution_count": 7,
   "metadata": {},
   "outputs": [],
   "source": [
    "total_size = 800000\n",
    "train_samples = int(total_size / 10 * 6)\n",
    "tv_samples = int(total_size / 5)"
   ]
  },
  {
   "cell_type": "code",
   "execution_count": 8,
   "metadata": {},
   "outputs": [
    {
     "name": "stdout",
     "output_type": "stream",
     "text": [
      "train      samples: 480000\n",
      "validation samples: 160000\n",
      "test       samples: 160000\n",
      "240000 train-bot.txt\n",
      "240000 train-gen.txt\n",
      "80000 validation-bot.txt\n",
      "80000 validation-gen.txt\n",
      "80000 test-bot.txt\n",
      "80000 test-gen.txt\n"
     ]
    }
   ],
   "source": [
    "generate_dataset(total_size, train_samples, tv_samples, dataset=3, combined=False)"
   ]
  }
 ],
 "metadata": {
  "kernelspec": {
   "display_name": "Python 3",
   "language": "python",
   "name": "python3"
  },
  "language_info": {
   "codemirror_mode": {
    "name": "ipython",
    "version": 3
   },
   "file_extension": ".py",
   "mimetype": "text/x-python",
   "name": "python",
   "nbconvert_exporter": "python",
   "pygments_lexer": "ipython3",
   "version": "3.7.3"
  }
 },
 "nbformat": 4,
 "nbformat_minor": 2
}
