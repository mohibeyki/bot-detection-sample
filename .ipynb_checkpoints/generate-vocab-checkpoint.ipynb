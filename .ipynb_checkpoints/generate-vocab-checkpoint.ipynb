{
 "cells": [
  {
   "cell_type": "code",
   "execution_count": 1,
   "metadata": {},
   "outputs": [],
   "source": [
    "from nltk.corpus import stopwords\n",
    "from nltk.stem.porter import PorterStemmer\n",
    "from nltk.tokenize import word_tokenize\n",
    "from collections import Counter\n",
    "import sys\n",
    "import pickle"
   ]
  },
  {
   "cell_type": "code",
   "execution_count": 2,
   "metadata": {},
   "outputs": [],
   "source": [
    "def extract_stems(line):\n",
    "    tokens = word_tokenize(line)\n",
    "    stop_words = set(stopwords.words('english'))\n",
    "    tokens = [w for w in tokens if w not in stop_words]\n",
    "    porter = PorterStemmer()\n",
    "    stems = []\n",
    "    for t in tokens:\n",
    "        stems.append(porter.stem(t))\n",
    "    return stems"
   ]
  },
  {
   "cell_type": "code",
   "execution_count": 4,
   "metadata": {},
   "outputs": [],
   "source": [
    "def count_vocab():\n",
    "    vocab_counter = Counter()\n",
    "    number = 0\n",
    "    total = 480000\n",
    "    with open('train-gen.txt') as input_file:\n",
    "        for line in input_file:\n",
    "            number += 1\n",
    "            vocab_counter.update(extract_stems(line))\n",
    "            if number % 1000 == 0:\n",
    "                sys.stdout.write(\"vocab counting progress: %d out of %d %d%%   \\r\" % (number, total, int(float(number * 100) / total)))\n",
    "                sys.stdout.flush()\n",
    "    with open('train-bot.txt') as input_file:\n",
    "        for line in input_file:\n",
    "            number += 1\n",
    "            vocab_counter.update(extract_stems(line))\n",
    "            if number % 1000 == 0:\n",
    "                sys.stdout.write(\"vocab counting progress: %d out of %d %d%%   \\r\" % (number, total, int(float(number * 100) / total)))\n",
    "                sys.stdout.flush()\n",
    "    return vocab_counter"
   ]
  },
  {
   "cell_type": "code",
   "execution_count": 5,
   "metadata": {},
   "outputs": [
    {
     "name": "stdout",
     "output_type": "stream",
     "text": [
      "vocab counting progress: 480000 out of 480000 100%   \r"
     ]
    }
   ],
   "source": [
    "vocab_counter = count_vocab()"
   ]
  },
  {
   "cell_type": "code",
   "execution_count": 6,
   "metadata": {},
   "outputs": [],
   "source": [
    "vocab_dict = {key: val for key, val in vocab_counter.items() if val > 1}"
   ]
  },
  {
   "cell_type": "code",
   "execution_count": 8,
   "metadata": {},
   "outputs": [],
   "source": [
    "vocab_list = sorted(vocab_dict.items(), key=lambda x: x[1], reverse=True)[:10000]"
   ]
  },
  {
   "cell_type": "code",
   "execution_count": 9,
   "metadata": {},
   "outputs": [],
   "source": [
    "vocab = {text: i + 1 for i, (text, _) in enumerate(vocab_list)}"
   ]
  },
  {
   "cell_type": "code",
   "execution_count": 10,
   "metadata": {},
   "outputs": [
    {
     "name": "stdout",
     "output_type": "stream",
     "text": [
      "10000\n"
     ]
    }
   ],
   "source": [
    "print(len(vocab))"
   ]
  },
  {
   "cell_type": "code",
   "execution_count": 11,
   "metadata": {},
   "outputs": [],
   "source": [
    "outfile = open('vocab.pickle','wb')"
   ]
  },
  {
   "cell_type": "code",
   "execution_count": 12,
   "metadata": {},
   "outputs": [],
   "source": [
    "pickle.dump(vocab, outfile)"
   ]
  },
  {
   "cell_type": "code",
   "execution_count": 13,
   "metadata": {},
   "outputs": [],
   "source": [
    "outfile.close()"
   ]
  }
 ],
 "metadata": {
  "kernelspec": {
   "display_name": "Python 3",
   "language": "python",
   "name": "python3"
  },
  "language_info": {
   "codemirror_mode": {
    "name": "ipython",
    "version": 3
   },
   "file_extension": ".py",
   "mimetype": "text/x-python",
   "name": "python",
   "nbconvert_exporter": "python",
   "pygments_lexer": "ipython3",
   "version": "3.7.3"
  }
 },
 "nbformat": 4,
 "nbformat_minor": 2
}
