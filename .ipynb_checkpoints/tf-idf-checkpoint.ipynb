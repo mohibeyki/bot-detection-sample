{
 "cells": [
  {
   "cell_type": "code",
   "execution_count": 26,
   "metadata": {},
   "outputs": [],
   "source": [
    "import random\n",
    "import keras\n",
    "import subprocess\n",
    "import pickle\n",
    "import keras_metrics as km\n",
    "import numpy as np\n",
    "import pandas as pd\n",
    "import matplotlib.pyplot as plt\n",
    "\n",
    "from keras.layers import Dense, Embedding, Dropout, LSTM, Activation, Conv1D, GlobalMaxPooling1D\n",
    "from keras.models import Sequential\n",
    "from keras.preprocessing import sequence\n",
    "from keras.preprocessing.text import Tokenizer\n",
    "from keras.callbacks import Callback\n",
    "\n",
    "from nltk.corpus import stopwords\n",
    "from nltk.stem.porter import PorterStemmer\n",
    "from nltk.tokenize import word_tokenize\n",
    "\n",
    "from sklearn.metrics import roc_curve, roc_auc_score, auc\n",
    "from sklearn.feature_extraction.text import TfidfVectorizer\n",
    "\n",
    "tokenizer = Tokenizer()"
   ]
  },
  {
   "cell_type": "code",
   "execution_count": 2,
   "metadata": {},
   "outputs": [],
   "source": [
    "def get_data(bot_file, gen_file):\n",
    "    x_data = []\n",
    "    with open(bot_file, 'r', errors='ignore') as file:\n",
    "        for line in file:\n",
    "            x_data.append(line)\n",
    "\n",
    "    size = len(x_data)\n",
    "\n",
    "    with open(gen_file, 'r', errors='ignore') as file:\n",
    "        for line in file:\n",
    "            x_data.append(line)\n",
    "\n",
    "    y_data = [1] * size + [0] * size\n",
    "\n",
    "    train_set = list(zip(x_data, y_data))\n",
    "    random.shuffle(train_set)\n",
    "    x, y = zip(*train_set)\n",
    "    return np.array(x), np.array(y)"
   ]
  },
  {
   "cell_type": "code",
   "execution_count": 3,
   "metadata": {},
   "outputs": [],
   "source": [
    "x, y = get_data('trv-bot.txt', 'trv-gen.txt')"
   ]
  },
  {
   "cell_type": "code",
   "execution_count": 4,
   "metadata": {},
   "outputs": [],
   "source": [
    "x_test, y_test = get_data('test-bot.txt', 'test-gen.txt')"
   ]
  },
  {
   "cell_type": "code",
   "execution_count": 5,
   "metadata": {},
   "outputs": [
    {
     "name": "stdout",
     "output_type": "stream",
     "text": [
      "<class 'numpy.ndarray'> (640000, 100)\n"
     ]
    }
   ],
   "source": [
    "vec = TfidfVectorizer(max_features=100,\n",
    "                      tokenizer=word_tokenize,\n",
    "                      strip_accents='unicode',\n",
    "                      lowercase =True,\n",
    "                      analyzer='word',\n",
    "                      token_pattern=r'\\w+',\n",
    "                      use_idf=True,\n",
    "                      smooth_idf=True,\n",
    "                      sublinear_tf=False, \n",
    "                      stop_words = 'english'\n",
    "                     )\n",
    "tfidf_mat = vec.fit_transform(x).toarray()\n",
    "print(type(tfidf_mat),tfidf_mat.shape)"
   ]
  },
  {
   "cell_type": "code",
   "execution_count": 6,
   "metadata": {},
   "outputs": [
    {
     "name": "stdout",
     "output_type": "stream",
     "text": [
      "<class 'numpy.ndarray'> (160000, 100)\n"
     ]
    }
   ],
   "source": [
    "test_tfidf_mat = vec.transform(x_test).toarray()\n",
    "print(type(test_tfidf_mat),test_tfidf_mat.shape)"
   ]
  },
  {
   "cell_type": "code",
   "execution_count": 63,
   "metadata": {},
   "outputs": [
    {
     "name": "stdout",
     "output_type": "stream",
     "text": [
      "_________________________________________________________________\n",
      "Layer (type)                 Output Shape              Param #   \n",
      "=================================================================\n",
      "dense_15 (Dense)             (None, 512)               51712     \n",
      "_________________________________________________________________\n",
      "dropout_11 (Dropout)         (None, 512)               0         \n",
      "_________________________________________________________________\n",
      "dense_16 (Dense)             (None, 512)               262656    \n",
      "_________________________________________________________________\n",
      "dropout_12 (Dropout)         (None, 512)               0         \n",
      "_________________________________________________________________\n",
      "dense_17 (Dense)             (None, 512)               262656    \n",
      "_________________________________________________________________\n",
      "dropout_13 (Dropout)         (None, 512)               0         \n",
      "_________________________________________________________________\n",
      "dense_18 (Dense)             (None, 512)               262656    \n",
      "_________________________________________________________________\n",
      "dropout_14 (Dropout)         (None, 512)               0         \n",
      "_________________________________________________________________\n",
      "dense_19 (Dense)             (None, 256)               131328    \n",
      "_________________________________________________________________\n",
      "dropout_15 (Dropout)         (None, 256)               0         \n",
      "_________________________________________________________________\n",
      "dense_20 (Dense)             (None, 64)                16448     \n",
      "_________________________________________________________________\n",
      "dense_21 (Dense)             (None, 1)                 65        \n",
      "_________________________________________________________________\n",
      "activation_3 (Activation)    (None, 1)                 0         \n",
      "=================================================================\n",
      "Total params: 987,521\n",
      "Trainable params: 987,521\n",
      "Non-trainable params: 0\n",
      "_________________________________________________________________\n"
     ]
    }
   ],
   "source": [
    "model = Sequential()\n",
    "model.add(Dense(512,input_shape=(100,), activation='relu'))\n",
    "model.add(Dropout(0.2))\n",
    "model.add(Dense(512, activation='relu'))\n",
    "model.add(Dropout(0.2))\n",
    "model.add(Dense(512,input_shape=(100,), activation='relu'))\n",
    "model.add(Dropout(0.2))\n",
    "model.add(Dense(512,input_shape=(100,), activation='relu'))\n",
    "model.add(Dropout(0.2))\n",
    "model.add(Dense(256, activation='relu'))\n",
    "model.add(Dropout(0.2))\n",
    "model.add(Dense(64, activation='relu'))\n",
    "model.add(Dense(1))\n",
    "model.add(Activation('sigmoid'))\n",
    "model.summary()\n",
    "model.compile(\n",
    "    loss='binary_crossentropy',\n",
    "    optimizer='adam',\n",
    "    metrics=['accuracy',km.binary_precision(), km.binary_recall()]\n",
    ")"
   ]
  },
  {
   "cell_type": "code",
   "execution_count": 64,
   "metadata": {},
   "outputs": [
    {
     "name": "stdout",
     "output_type": "stream",
     "text": [
      "Train on 480000 samples, validate on 160000 samples\n",
      "Epoch 1/20\n",
      "480000/480000 [==============================] - 10s 20us/step - loss: 0.0973 - acc: 0.9663 - precision: 0.9698 - recall: 0.9627 - val_loss: 0.0900 - val_acc: 0.9644 - val_precision: 0.9943 - val_recall: 0.9341\n",
      "Epoch 2/20\n",
      "480000/480000 [==============================] - 9s 18us/step - loss: 0.0873 - acc: 0.9696 - precision: 0.9713 - recall: 0.9678 - val_loss: 0.0859 - val_acc: 0.9696 - val_precision: 0.9683 - val_recall: 0.9709\n",
      "Epoch 3/20\n",
      "480000/480000 [==============================] - 9s 18us/step - loss: 0.0846 - acc: 0.9706 - precision: 0.9723 - recall: 0.9687 - val_loss: 0.0861 - val_acc: 0.9708 - val_precision: 0.9715 - val_recall: 0.9700\n",
      "Epoch 4/20\n",
      "480000/480000 [==============================] - 9s 18us/step - loss: 0.0828 - acc: 0.9711 - precision: 0.9725 - recall: 0.9696 - val_loss: 0.0833 - val_acc: 0.9709 - val_precision: 0.9734 - val_recall: 0.9681\n",
      "Epoch 5/20\n",
      "480000/480000 [==============================] - 9s 18us/step - loss: 0.0814 - acc: 0.9715 - precision: 0.9730 - recall: 0.9701 - val_loss: 0.0828 - val_acc: 0.9713 - val_precision: 0.9727 - val_recall: 0.9696\n",
      "Epoch 6/20\n",
      "480000/480000 [==============================] - 9s 18us/step - loss: 0.0807 - acc: 0.9717 - precision: 0.9727 - recall: 0.9707 - val_loss: 0.0819 - val_acc: 0.9717 - val_precision: 0.9730 - val_recall: 0.9701\n",
      "Epoch 7/20\n",
      "480000/480000 [==============================] - 9s 18us/step - loss: 0.0799 - acc: 0.9720 - precision: 0.9730 - recall: 0.9710 - val_loss: 0.0828 - val_acc: 0.9712 - val_precision: 0.9702 - val_recall: 0.9722\n",
      "Epoch 8/20\n",
      "480000/480000 [==============================] - 9s 18us/step - loss: 0.0792 - acc: 0.9721 - precision: 0.9727 - recall: 0.9716 - val_loss: 0.0823 - val_acc: 0.9716 - val_precision: 0.9718 - val_recall: 0.9713\n",
      "Epoch 9/20\n",
      "480000/480000 [==============================] - 9s 18us/step - loss: 0.0786 - acc: 0.9724 - precision: 0.9734 - recall: 0.9715 - val_loss: 0.0820 - val_acc: 0.9717 - val_precision: 0.9714 - val_recall: 0.9717\n",
      "Epoch 10/20\n",
      "480000/480000 [==============================] - 9s 18us/step - loss: 0.0780 - acc: 0.9725 - precision: 0.9729 - recall: 0.9722 - val_loss: 0.0831 - val_acc: 0.9722 - val_precision: 0.9738 - val_recall: 0.9703\n",
      "Epoch 11/20\n",
      "480000/480000 [==============================] - 9s 18us/step - loss: 0.0777 - acc: 0.9728 - precision: 0.9735 - recall: 0.9721 - val_loss: 0.0827 - val_acc: 0.9720 - val_precision: 0.9729 - val_recall: 0.9710\n",
      "Epoch 12/20\n",
      "480000/480000 [==============================] - 9s 18us/step - loss: 0.0772 - acc: 0.9729 - precision: 0.9739 - recall: 0.9718 - val_loss: 0.0833 - val_acc: 0.9723 - val_precision: 0.9725 - val_recall: 0.9719\n",
      "Epoch 13/20\n",
      "480000/480000 [==============================] - 9s 18us/step - loss: 0.0770 - acc: 0.9730 - precision: 0.9736 - recall: 0.9724 - val_loss: 0.0837 - val_acc: 0.9722 - val_precision: 0.9721 - val_recall: 0.9722\n",
      "Epoch 14/20\n",
      "480000/480000 [==============================] - 9s 18us/step - loss: 0.0768 - acc: 0.9732 - precision: 0.9738 - recall: 0.9726 - val_loss: 0.0835 - val_acc: 0.9720 - val_precision: 0.9717 - val_recall: 0.9722\n",
      "Epoch 15/20\n",
      "480000/480000 [==============================] - 9s 19us/step - loss: 0.0763 - acc: 0.9733 - precision: 0.9743 - recall: 0.9722 - val_loss: 0.0833 - val_acc: 0.9723 - val_precision: 0.9732 - val_recall: 0.9712\n",
      "Epoch 16/20\n",
      "480000/480000 [==============================] - 9s 19us/step - loss: 0.0759 - acc: 0.9734 - precision: 0.9744 - recall: 0.9723 - val_loss: 0.0835 - val_acc: 0.9722 - val_precision: 0.9720 - val_recall: 0.9723\n",
      "Epoch 17/20\n",
      "480000/480000 [==============================] - 9s 18us/step - loss: 0.0759 - acc: 0.9734 - precision: 0.9738 - recall: 0.9730 - val_loss: 0.0846 - val_acc: 0.9723 - val_precision: 0.9729 - val_recall: 0.9715\n",
      "Epoch 18/20\n",
      "480000/480000 [==============================] - 9s 18us/step - loss: 0.0756 - acc: 0.9736 - precision: 0.9745 - recall: 0.9726 - val_loss: 0.0830 - val_acc: 0.9727 - val_precision: 0.9742 - val_recall: 0.9709\n",
      "Epoch 19/20\n",
      "480000/480000 [==============================] - 9s 18us/step - loss: 0.0756 - acc: 0.9736 - precision: 0.9744 - recall: 0.9727 - val_loss: 0.0833 - val_acc: 0.9724 - val_precision: 0.9730 - val_recall: 0.9716\n",
      "Epoch 20/20\n",
      "480000/480000 [==============================] - 9s 18us/step - loss: 0.0753 - acc: 0.9736 - precision: 0.9744 - recall: 0.9728 - val_loss: 0.0855 - val_acc: 0.9723 - val_precision: 0.9725 - val_recall: 0.9719\n"
     ]
    }
   ],
   "source": [
    "history = model.fit(\n",
    "    tfidf_mat,\n",
    "    y,\n",
    "    batch_size=128,\n",
    "    epochs=20,\n",
    "    verbose=1,\n",
    "    validation_split=0.25\n",
    ")"
   ]
  },
  {
   "cell_type": "code",
   "execution_count": 84,
   "metadata": {},
   "outputs": [
    {
     "data": {
      "image/png": "[encoded data removed]",
      "text/plain": [
       "<Figure size 432x288 with 1 Axes>"
      ]
     },
     "metadata": {
      "needs_background": "light"
     },
     "output_type": "display_data"
    }
   ],
   "source": [
    "plt.xlim(left=-1, right=21)\n",
    "plt.ylim(bottom=0.969, top=0.975)\n",
    "plt.title('precision')\n",
    "plt.plot(history.history['precision'], label='train')\n",
    "plt.savefig('tfidf-s-1/precision.svg')"
   ]
  },
  {
   "cell_type": "code",
   "execution_count": 86,
   "metadata": {},
   "outputs": [
    {
     "data": {
      "image/png": "[encoded data removed]",
      "text/plain": [
       "<Figure size 432x288 with 1 Axes>"
      ]
     },
     "metadata": {
      "needs_background": "light"
     },
     "output_type": "display_data"
    }
   ],
   "source": [
    "plt.xlim(left=-1, right=21)\n",
    "plt.ylim(bottom=0.966, top=0.974)\n",
    "plt.title('acc')\n",
    "plt.plot(history.history['acc'], label='train')\n",
    "plt.savefig('tfidf-s-1/accuracy.svg')"
   ]
  },
  {
   "cell_type": "code",
   "execution_count": 89,
   "metadata": {},
   "outputs": [
    {
     "data": {
      "image/png": "[encoded data removed]",
      "text/plain": [
       "<Figure size 432x288 with 1 Axes>"
      ]
     },
     "metadata": {
      "needs_background": "light"
     },
     "output_type": "display_data"
    }
   ],
   "source": [
    "plt.xlim(left=-1, right=21)\n",
    "plt.ylim(bottom=0.962, top=0.974)\n",
    "plt.title('recall')\n",
    "plt.plot(history.history['recall'], label='train')\n",
    "plt.savefig('tfidf-s-1/recall.svg')"
   ]
  },
  {
   "cell_type": "code",
   "execution_count": 90,
   "metadata": {},
   "outputs": [],
   "source": [
    "y_pred = model.predict(test_tfidf_mat).ravel()\n",
    "fpr, tpr, threshold = roc_curve(y_test, y_pred)"
   ]
  },
  {
   "cell_type": "code",
   "execution_count": 91,
   "metadata": {},
   "outputs": [
    {
     "data": {
      "image/png": "[encoded data removed]",
      "text/plain": [
       "<Figure size 432x288 with 1 Axes>"
      ]
     },
     "metadata": {
      "needs_background": "light"
     },
     "output_type": "display_data"
    }
   ],
   "source": [
    "plt.figure(1)\n",
    "plt.plot([0, 1], [0, 1], 'k--')\n",
    "plt.plot(fpr, tpr, label='(area = {:.3f})'.format(auc(fpr, tpr)))\n",
    "plt.xlabel('False positive rate')\n",
    "plt.ylabel('True positive rate')\n",
    "plt.title('ROC curve')\n",
    "plt.legend(loc='best')\n",
    "plt.savefig('tfidf-s-1/roc.svg')"
   ]
  },
  {
   "cell_type": "code",
   "execution_count": 92,
   "metadata": {},
   "outputs": [
    {
     "name": "stdout",
     "output_type": "stream",
     "text": [
      "160000/160000 [==============================] - 3s 21us/step\n",
      "score: 0.08000907635651529\n",
      "accuracy: 0.9736625\n",
      "precision: 0.9733903005759521\n",
      "recall: 0.9739499999987825\n"
     ]
    }
   ],
   "source": [
    "score, acc, p, r = model.evaluate(test_tfidf_mat, y_test)\n",
    "print('score:', score)\n",
    "print('accuracy:', acc)\n",
    "print('precision:', p)\n",
    "print('recall:', r)"
   ]
  },
  {
   "cell_type": "code",
   "execution_count": 93,
   "metadata": {},
   "outputs": [
    {
     "name": "stdout",
     "output_type": "stream",
     "text": [
      "Saved model to disk\n"
     ]
    }
   ],
   "source": [
    "model.save_weights(\"tfidf-s-1/model.h5\")\n",
    "print(\"Saved model to disk\")"
   ]
  }
 ],
 "metadata": {
  "kernelspec": {
   "display_name": "Python 3",
   "language": "python",
   "name": "python3"
  },
  "language_info": {
   "codemirror_mode": {
    "name": "ipython",
    "version": 3
   },
   "file_extension": ".py",
   "mimetype": "text/x-python",
   "name": "python",
   "nbconvert_exporter": "python",
   "pygments_lexer": "ipython3",
   "version": "3.7.3"
  }
 },
 "nbformat": 4,
 "nbformat_minor": 2
}
