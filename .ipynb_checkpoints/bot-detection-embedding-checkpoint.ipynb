{
 "cells": [
  {
   "cell_type": "code",
   "execution_count": 1,
   "metadata": {},
   "outputs": [
    {
     "name": "stderr",
     "output_type": "stream",
     "text": [
      "Using TensorFlow backend.\n"
     ]
    }
   ],
   "source": [
    "import random\n",
    "import keras\n",
    "import keras_metrics\n",
    "import subprocess\n",
    "import pickle\n",
    "import numpy as np\n",
    "import pandas as pd\n",
    "import matplotlib.pyplot as plt\n",
    "\n",
    "from keras.layers import Dense, Embedding\n",
    "from keras.layers import LSTM\n",
    "from keras.models import Sequential\n",
    "from keras.preprocessing import sequence\n",
    "from keras.preprocessing.text import Tokenizer\n",
    "from nltk.corpus import stopwords\n",
    "from nltk.stem.porter import PorterStemmer\n",
    "from nltk.tokenize import word_tokenize\n",
    "\n",
    "tokenizer = Tokenizer()"
   ]
  },
  {
   "cell_type": "code",
   "execution_count": 2,
   "metadata": {},
   "outputs": [],
   "source": [
    "def extract_stems(line):\n",
    "    tokens = word_tokenize(line)\n",
    "    stop_words = set(stopwords.words('english'))\n",
    "    tokens = [w for w in tokens if w not in stop_words]\n",
    "    porter = PorterStemmer()\n",
    "    stems = []\n",
    "    for t in tokens:\n",
    "        stems.append(porter.stem(t))\n",
    "    return stems"
   ]
  },
  {
   "cell_type": "code",
   "execution_count": 3,
   "metadata": {},
   "outputs": [],
   "source": [
    "def get_one_hot(stems, vocab):\n",
    "    seq = []\n",
    "    for stem in stems:\n",
    "        if stem in vocab:\n",
    "            seq.append(vocab[stem] - 1)\n",
    "    return seq"
   ]
  },
  {
   "cell_type": "code",
   "execution_count": 4,
   "metadata": {},
   "outputs": [],
   "source": [
    "def load_vocab():\n",
    "    with open('vocab.pickle', 'rb') as f:\n",
    "        vocab = pickle.load(f)\n",
    "        return vocab"
   ]
  },
  {
   "cell_type": "code",
   "execution_count": 5,
   "metadata": {},
   "outputs": [],
   "source": [
    "class DataGenerator(keras.utils.Sequence):\n",
    "    'Generates data for Keras'\n",
    "    def __init__(self, vocab, maxlen, bot_file_name='tr-bot.txt', gen_file_name='tr-gen.txt', batch_size=64):\n",
    "        'Initialization'\n",
    "        self.bot_file_name = bot_file_name\n",
    "        self.gen_file_name = gen_file_name\n",
    "        self.vocab = vocab\n",
    "        self.maxlen = maxlen\n",
    "        self.size = int(subprocess.check_output(['wc', '-l', bot_file_name]).split()[0]) * 2\n",
    "        self.batch_size = batch_size\n",
    "        self.bot_file = open(self.bot_file_name, 'r', errors='ignore')\n",
    "        self.gen_file = open(self.gen_file_name, 'r', errors='ignore')\n",
    "        self.on_epoch_end()\n",
    "\n",
    "    def on_epoch_end(self):\n",
    "        self.bot_file = open(self.bot_file_name, 'r', errors='ignore')\n",
    "        self.gen_file = open(self.gen_file_name, 'r', errors='ignore')\n",
    "\n",
    "    def __len__(self):\n",
    "        'Denotes the number of batches per epoch'\n",
    "        return int(self.size / self.batch_size)\n",
    "\n",
    "    def __getitem__(self, index):\n",
    "        'Generate one batch of data'\n",
    "        bot_data = []\n",
    "        for _ in range(int(self.batch_size / 2)):\n",
    "            bot_data.append(self.bot_file.readline())\n",
    "        gen_data = []\n",
    "        for _ in range(int(self.batch_size / 2)):\n",
    "            gen_data.append(self.gen_file.readline())\n",
    "\n",
    "        x_data = []\n",
    "        for line in bot_data:\n",
    "            stems = extract_stems(line)\n",
    "            x_data.append(get_one_hot(stems, vocab))\n",
    "        for line in gen_data:\n",
    "            stems = extract_stems(line)\n",
    "            x_data.append(get_one_hot(stems, vocab))\n",
    "        y_data = [1] * len(bot_data) + [0] * len(gen_data)\n",
    "\n",
    "        train_set = list(zip(x_data, y_data))\n",
    "        random.shuffle(train_set)\n",
    "        x, y = zip(*train_set)\n",
    "        x = sequence.pad_sequences(np.array(x), maxlen=self.maxlen)\n",
    "        return x, np.array(y)"
   ]
  },
  {
   "cell_type": "code",
   "execution_count": 6,
   "metadata": {},
   "outputs": [],
   "source": [
    "def get_test_data(maxlen):\n",
    "    with open('test-bot.txt', 'r', errors='ignore') as file:\n",
    "        bot_data = file.readlines()\n",
    "\n",
    "    with open('test-gen.txt', 'r', errors='ignore') as file:\n",
    "        gen_data = file.readlines()\n",
    "\n",
    "    x_data = []\n",
    "    for line in bot_data:\n",
    "        stems = extract_stems(line)\n",
    "        x_data.append(get_one_hot(stems, vocab))\n",
    "    for line in gen_data:\n",
    "        stems = extract_stems(line)\n",
    "        x_data.append(get_one_hot(stems, vocab))\n",
    "    y_data = [1] * len(bot_data) + [0] * len(gen_data)\n",
    "    \n",
    "    x = sequence.pad_sequences(np.array(x_data), maxlen=maxlen)\n",
    "    return x, np.array(y_data)"
   ]
  },
  {
   "cell_type": "code",
   "execution_count": 21,
   "metadata": {},
   "outputs": [
    {
     "name": "stdout",
     "output_type": "stream",
     "text": [
      "vocab size: 10000\n"
     ]
    }
   ],
   "source": [
    "max_features = 10000\n",
    "maxlen = 80\n",
    "batch_size = 64\n",
    "vocab = load_vocab()\n",
    "print('vocab size:', len(vocab))"
   ]
  },
  {
   "cell_type": "code",
   "execution_count": 41,
   "metadata": {},
   "outputs": [],
   "source": [
    "training_generator = DataGenerator(vocab, maxlen, 'train-bot.txt', 'train-gen.txt', batch_size)\n",
    "validation_generator = DataGenerator(vocab, maxlen, 'validation-bot.txt', 'validation-gen.txt', batch_size)"
   ]
  },
  {
   "cell_type": "code",
   "execution_count": 42,
   "metadata": {},
   "outputs": [],
   "source": [
    "model = Sequential()\n",
    "model.add(Embedding(len(vocab), 128))\n",
    "model.add(LSTM(128, dropout=0.2, recurrent_dropout=0.2))\n",
    "model.add(Dense(1, activation='sigmoid'))\n",
    "model.compile(loss='binary_crossentropy',\n",
    "              optimizer='adam',\n",
    "              metrics=['accuracy',keras_metrics.precision(), keras_metrics.recall()])"
   ]
  },
  {
   "cell_type": "code",
   "execution_count": 43,
   "metadata": {},
   "outputs": [
    {
     "name": "stdout",
     "output_type": "stream",
     "text": [
      "Epoch 1/5\n",
      "3750/3750 [==============================] - 198s 53ms/step - loss: 0.2370 - acc: 0.8976 - precision: 0.9214 - recall: 0.8693 - val_loss: 0.3331 - val_acc: 0.8650 - val_precision: 0.8436 - val_recall: 0.8962\n",
      "Epoch 2/5\n",
      "3750/3750 [==============================] - 197s 52ms/step - loss: 0.1769 - acc: 0.9243 - precision: 0.9430 - recall: 0.9032 - val_loss: 0.3528 - val_acc: 0.8713 - val_precision: 0.8405 - val_recall: 0.9164\n",
      "Epoch 3/5\n",
      "3750/3750 [==============================] - 197s 52ms/step - loss: 0.1512 - acc: 0.9353 - precision: 0.9487 - recall: 0.9203 - val_loss: 0.4229 - val_acc: 0.8697 - val_precision: 0.8413 - val_recall: 0.9113\n",
      "Epoch 4/5\n",
      "3750/3750 [==============================] - 197s 52ms/step - loss: 0.1323 - acc: 0.9439 - precision: 0.9548 - recall: 0.9319 - val_loss: 0.4486 - val_acc: 0.8629 - val_precision: 0.8296 - val_recall: 0.9136\n",
      "Epoch 5/5\n",
      "3750/3750 [==============================] - 198s 53ms/step - loss: 0.1169 - acc: 0.9507 - precision: 0.9591 - recall: 0.9416 - val_loss: 0.4990 - val_acc: 0.8617 - val_precision: 0.8364 - val_recall: 0.8992\n"
     ]
    }
   ],
   "source": [
    "history = model.fit_generator(generator=training_generator,\n",
    "                    validation_data=validation_generator,\n",
    "                    workers=1,\n",
    "                    epochs=5)"
   ]
  },
  {
   "cell_type": "code",
   "execution_count": 44,
   "metadata": {},
   "outputs": [
    {
     "name": "stdout",
     "output_type": "stream",
     "text": [
      "Saved model to disk\n"
     ]
    }
   ],
   "source": [
    "model.save_weights(\"model.h5\")\n",
    "print(\"Saved model to disk\")"
   ]
  },
  {
   "cell_type": "code",
   "execution_count": 45,
   "metadata": {},
   "outputs": [
    {
     "data": {
      "text/plain": [
       "[<matplotlib.lines.Line2D at 0x7fc33c2019b0>]"
      ]
     },
     "execution_count": 45,
     "metadata": {},
     "output_type": "execute_result"
    },
    {
     "data": {
      "image/png": "[encoded data removed]",
      "text/plain": [
       "<Figure size 432x288 with 1 Axes>"
      ]
     },
     "metadata": {
      "needs_background": "light"
     },
     "output_type": "display_data"
    }
   ],
   "source": [
    "plt.subplot(211)\n",
    "plt.title('precision')\n",
    "plt.plot(history.history['precision'], label='train')"
   ]
  },
  {
   "cell_type": "code",
   "execution_count": 46,
   "metadata": {},
   "outputs": [
    {
     "data": {
      "text/plain": [
       "[<matplotlib.lines.Line2D at 0x7fc33c1b7940>]"
      ]
     },
     "execution_count": 46,
     "metadata": {},
     "output_type": "execute_result"
    },
    {
     "data": {
      "image/png": "[encoded data removed]",
      "text/plain": [
       "<Figure size 432x288 with 1 Axes>"
      ]
     },
     "metadata": {
      "needs_background": "light"
     },
     "output_type": "display_data"
    }
   ],
   "source": [
    "plt.subplot(211)\n",
    "plt.title('acc')\n",
    "plt.plot(history.history['acc'], label='train')"
   ]
  },
  {
   "cell_type": "code",
   "execution_count": 47,
   "metadata": {},
   "outputs": [],
   "source": [
    "x_test, y_test = get_test_data(maxlen)"
   ]
  },
  {
   "cell_type": "code",
   "execution_count": 48,
   "metadata": {},
   "outputs": [
    {
     "name": "stdout",
     "output_type": "stream",
     "text": [
      "30000/30000 [==============================] - 6s 189us/step\n",
      "score: 0.4593976677785317\n",
      "accuracy: 0.8795333333015442\n",
      "precision: 0.8631202959506115\n",
      "recall: 0.902133333327319\n"
     ]
    }
   ],
   "source": [
    "score, acc, p, r = model.evaluate(x_test, y_test,\n",
    "                           batch_size=batch_size)\n",
    "print('score:', score)\n",
    "print('accuracy:', acc)\n",
    "print('precision:', p)\n",
    "print('recall:', r)"
   ]
  },
  {
   "cell_type": "code",
   "execution_count": null,
   "metadata": {},
   "outputs": [],
   "source": []
  }
 ],
 "metadata": {
  "kernelspec": {
   "display_name": "Python 3",
   "language": "python",
   "name": "python3"
  },
  "language_info": {
   "codemirror_mode": {
    "name": "ipython",
    "version": 3
   },
   "file_extension": ".py",
   "mimetype": "text/x-python",
   "name": "python",
   "nbconvert_exporter": "python",
   "pygments_lexer": "ipython3",
   "version": "3.7.3"
  }
 },
 "nbformat": 4,
 "nbformat_minor": 2
}
