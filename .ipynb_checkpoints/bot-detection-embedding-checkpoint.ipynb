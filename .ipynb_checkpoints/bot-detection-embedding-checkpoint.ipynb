{
 "cells": [
  {
   "cell_type": "code",
   "execution_count": 1,
   "metadata": {},
   "outputs": [
    {
     "name": "stderr",
     "output_type": "stream",
     "text": [
      "Using TensorFlow backend.\n"
     ]
    }
   ],
   "source": [
    "import random\n",
    "import keras\n",
    "import subprocess\n",
    "import pickle\n",
    "import numpy as np\n",
    "import pandas as pd\n",
    "\n",
    "from keras.layers import Dense, Embedding\n",
    "from keras.layers import LSTM\n",
    "from keras.models import Sequential\n",
    "from keras.preprocessing import sequence\n",
    "from keras.preprocessing.text import Tokenizer\n",
    "from nltk.corpus import stopwords\n",
    "from nltk.stem.porter import PorterStemmer\n",
    "from nltk.tokenize import word_tokenize\n",
    "\n",
    "tokenizer = Tokenizer()"
   ]
  },
  {
   "cell_type": "code",
   "execution_count": 2,
   "metadata": {},
   "outputs": [],
   "source": [
    "def extract_stems(line):\n",
    "    tokens = word_tokenize(line)\n",
    "    stop_words = set(stopwords.words('english'))\n",
    "    tokens = [w for w in tokens if w not in stop_words]\n",
    "    porter = PorterStemmer()\n",
    "    stems = []\n",
    "    for t in tokens:\n",
    "        stems.append(porter.stem(t))\n",
    "    return stems"
   ]
  },
  {
   "cell_type": "code",
   "execution_count": 3,
   "metadata": {},
   "outputs": [],
   "source": [
    "def get_one_hot(stems, vocab):\n",
    "    seq = []\n",
    "    for stem in stems:\n",
    "        if stem in vocab:\n",
    "            seq.append(vocab[stem] - 1)\n",
    "    return seq"
   ]
  },
  {
   "cell_type": "code",
   "execution_count": 4,
   "metadata": {},
   "outputs": [],
   "source": [
    "def load_vocab():\n",
    "    with open('vocab.pickle', 'rb') as f:\n",
    "        vocab = pickle.load(f)\n",
    "        return vocab"
   ]
  },
  {
   "cell_type": "code",
   "execution_count": 5,
   "metadata": {},
   "outputs": [],
   "source": [
    "class DataGenerator(keras.utils.Sequence):\n",
    "    'Generates data for Keras'\n",
    "    def __init__(self, vocab, maxlen, bot_file_name='tr-bot.txt', gen_file_name='tr-gen.txt', batch_size=64):\n",
    "        'Initialization'\n",
    "        self.bot_file_name = bot_file_name\n",
    "        self.gen_file_name = gen_file_name\n",
    "        self.vocab = vocab\n",
    "        self.maxlen = maxlen\n",
    "        self.size = int(subprocess.check_output(['wc', '-l', bot_file_name]).split()[0]) * 2\n",
    "        self.batch_size = batch_size\n",
    "        self.bot_file = open(self.bot_file_name, 'r', errors='ignore')\n",
    "        self.gen_file = open(self.gen_file_name, 'r', errors='ignore')\n",
    "        self.on_epoch_end()\n",
    "\n",
    "    def on_epoch_end(self):\n",
    "        self.bot_file = open(self.bot_file_name, 'r', errors='ignore')\n",
    "        self.gen_file = open(self.gen_file_name, 'r', errors='ignore')\n",
    "\n",
    "    def __len__(self):\n",
    "        'Denotes the number of batches per epoch'\n",
    "        return int(self.size / self.batch_size)\n",
    "\n",
    "    def __getitem__(self, index):\n",
    "        'Generate one batch of data'\n",
    "        bot_data = []\n",
    "        for _ in range(int(self.batch_size / 2)):\n",
    "            bot_data.append(self.bot_file.readline())\n",
    "        gen_data = []\n",
    "        for _ in range(int(self.batch_size / 2)):\n",
    "            gen_data.append(self.gen_file.readline())\n",
    "\n",
    "        x_data = []\n",
    "        for line in bot_data:\n",
    "            stems = extract_stems(line)\n",
    "            x_data.append(get_one_hot(stems, vocab))\n",
    "        for line in gen_data:\n",
    "            stems = extract_stems(line)\n",
    "            x_data.append(get_one_hot(stems, vocab))\n",
    "        y_data = [1] * len(bot_data) + [0] * len(gen_data)\n",
    "\n",
    "        train_set = list(zip(x_data, y_data))\n",
    "        random.shuffle(train_set)\n",
    "        x, y = zip(*train_set)\n",
    "        x = sequence.pad_sequences(np.array(x), maxlen=self.maxlen)\n",
    "        return x, np.array(y)"
   ]
  },
  {
   "cell_type": "code",
   "execution_count": 6,
   "metadata": {},
   "outputs": [],
   "source": [
    "def get_test_data(maxlen):\n",
    "    with open('test-bot.txt', 'r', errors='ignore') as file:\n",
    "        bot_data = file.readlines()\n",
    "\n",
    "    with open('test-gen.txt', 'r', errors='ignore') as file:\n",
    "        gen_data = file.readlines()\n",
    "\n",
    "    x_data = []\n",
    "    for line in bot_data:\n",
    "        stems = extract_stems(line)\n",
    "        x_data.append(get_one_hot(stems, vocab))\n",
    "    for line in gen_data:\n",
    "        stems = extract_stems(line)\n",
    "        x_data.append(get_one_hot(stems, vocab))\n",
    "    y_data = [1] * len(bot_data) + [0] * len(gen_data)\n",
    "    \n",
    "    x = sequence.pad_sequences(np.array(x_data), maxlen=maxlen)\n",
    "    return x, np.array(y_data)"
   ]
  },
  {
   "cell_type": "code",
   "execution_count": 7,
   "metadata": {},
   "outputs": [
    {
     "name": "stdout",
     "output_type": "stream",
     "text": [
      "vocab size: 20000\n"
     ]
    }
   ],
   "source": [
    "max_features = 20000\n",
    "maxlen = 80\n",
    "batch_size = 64\n",
    "vocab = load_vocab()\n",
    "print('vocab size:', len(vocab))"
   ]
  },
  {
   "cell_type": "code",
   "execution_count": 12,
   "metadata": {},
   "outputs": [],
   "source": [
    "training_generator = DataGenerator(vocab, maxlen, 'tr-bot.txt', 'tr-gen.txt', batch_size)\n",
    "validation_generator = DataGenerator(vocab, maxlen, 'val-bot.txt', 'val-gen.txt', batch_size)"
   ]
  },
  {
   "cell_type": "code",
   "execution_count": 13,
   "metadata": {},
   "outputs": [],
   "source": [
    "model = Sequential()\n",
    "model.add(Embedding(len(vocab), 128))\n",
    "model.add(LSTM(128, dropout=0.2, recurrent_dropout=0.2))\n",
    "model.add(Dense(1, activation='sigmoid'))\n",
    "model.compile(loss='binary_crossentropy',\n",
    "              optimizer='adam',\n",
    "              metrics=['accuracy'])"
   ]
  },
  {
   "cell_type": "code",
   "execution_count": 14,
   "metadata": {},
   "outputs": [],
   "source": [
    "x_test, y_test = get_test_data(maxlen)"
   ]
  },
  {
   "cell_type": "code",
   "execution_count": 15,
   "metadata": {},
   "outputs": [
    {
     "name": "stdout",
     "output_type": "stream",
     "text": [
      "Epoch 1/10\n",
      "4687/4687 [==============================] - 241s 52ms/step - loss: 0.3145 - acc: 0.8597 - val_loss: 0.4474 - val_acc: 0.7799\n",
      "Epoch 2/10\n",
      "4687/4687 [==============================] - 240s 51ms/step - loss: 0.2474 - acc: 0.8897 - val_loss: 0.4620 - val_acc: 0.7848\n",
      "Epoch 3/10\n",
      "4687/4687 [==============================] - 240s 51ms/step - loss: 0.2154 - acc: 0.9053 - val_loss: 0.5030 - val_acc: 0.7793\n",
      "Epoch 4/10\n",
      "4687/4687 [==============================] - 240s 51ms/step - loss: 0.1937 - acc: 0.9156 - val_loss: 0.5384 - val_acc: 0.7754\n",
      "Epoch 5/10\n",
      "4687/4687 [==============================] - 240s 51ms/step - loss: 0.1769 - acc: 0.9236 - val_loss: 0.5590 - val_acc: 0.7810\n",
      "Epoch 6/10\n",
      "4687/4687 [==============================] - 240s 51ms/step - loss: 0.1636 - acc: 0.9299 - val_loss: 0.6009 - val_acc: 0.7853\n",
      "Epoch 7/10\n",
      "4687/4687 [==============================] - 240s 51ms/step - loss: 0.1539 - acc: 0.9341 - val_loss: 0.6305 - val_acc: 0.7815\n",
      "Epoch 8/10\n",
      "4687/4687 [==============================] - 240s 51ms/step - loss: 0.1437 - acc: 0.9387 - val_loss: 0.6736 - val_acc: 0.7815\n",
      "Epoch 9/10\n",
      "4687/4687 [==============================] - 240s 51ms/step - loss: 0.1377 - acc: 0.9415 - val_loss: 0.6973 - val_acc: 0.7755\n",
      "Epoch 10/10\n",
      "4687/4687 [==============================] - 240s 51ms/step - loss: 0.1303 - acc: 0.9450 - val_loss: 0.7367 - val_acc: 0.7758\n",
      "24576/24576 [==============================] - 4s 177us/step\n",
      "Test score: 0.6134560176481804\n",
      "Test accuracy: 0.8054606119791666\n"
     ]
    }
   ],
   "source": [
    "model.fit_generator(generator=training_generator,\n",
    "                    validation_data=validation_generator,\n",
    "                    workers=1,\n",
    "                    epochs=10)\n",
    "\n",
    "score, acc = model.evaluate(x_test, y_test,\n",
    "                           batch_size=batch_size)\n",
    "print('Test score:', score)\n",
    "print('Test accuracy:', acc)"
   ]
  },
  {
   "cell_type": "code",
   "execution_count": null,
   "metadata": {},
   "outputs": [],
   "source": []
  }
 ],
 "metadata": {
  "kernelspec": {
   "display_name": "Python 3",
   "language": "python",
   "name": "python3"
  },
  "language_info": {
   "codemirror_mode": {
    "name": "ipython",
    "version": 3
   },
   "file_extension": ".py",
   "mimetype": "text/x-python",
   "name": "python",
   "nbconvert_exporter": "python",
   "pygments_lexer": "ipython3",
   "version": "3.7.3"
  }
 },
 "nbformat": 4,
 "nbformat_minor": 2
}
